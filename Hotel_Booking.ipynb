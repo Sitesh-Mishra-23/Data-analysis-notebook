{
  "nbformat": 4,
  "nbformat_minor": 0,
  "metadata": {
    "colab": {
      "private_outputs": true,
      "provenance": [],
      "collapsed_sections": [
        "vncDsAP0Gaoa",
        "FJNUwmbgGyua",
        "w6K7xa23Elo4",
        "O_i_v8NEhb9l",
        "HhfV-JJviCcP",
        "Y3lxredqlCYt",
        "3RnN4peoiCZX",
        "x71ZqKXriCWQ",
        "7hBIi_osiCS2",
        "JlHwYmJAmNHm",
        "35m5QtbWiB9F",
        "PoPl-ycgm1ru",
        "H0kj-8xxnORC",
        "nA9Y7ga8ng1Z",
        "PBTbrJXOngz2",
        "u3PMJOP6ngxN",
        "dauF4eBmngu3",
        "bKJF3rekwFvQ",
        "MSa1f5Uengrz",
        "GF8Ens_Soomf",
        "0wOQAZs5pc--",
        "K5QZ13OEpz2H",
        "lQ7QKXXCp7Bj",
        "448CDAPjqfQr",
        "KSlN3yHqYklG",
        "t6dVpIINYklI",
        "ijmpgYnKYklI",
        "-JiQyfWJYklI",
        "EM7whBJCYoAo",
        "fge-S5ZAYoAp",
        "85gYPyotYoAp",
        "RoGjAbkUYoAp",
        "4Of9eVA-YrdM",
        "iky9q4vBYrdO",
        "F6T5p64dYrdO",
        "y-Ehk30pYrdP",
        "bamQiAODYuh1",
        "QHF8YVU7Yuh3",
        "GwzvFGzlYuh3",
        "qYpmQ266Yuh3",
        "OH-pJp9IphqM",
        "bbFf2-_FphqN",
        "_ouA3fa0phqN",
        "Seke61FWphqN",
        "PIIx-8_IphqN",
        "t27r6nlMphqO",
        "r2jJGEOYphqO",
        "b0JNsNcRphqO",
        "BZR9WyysphqO",
        "jj7wYXLtphqO",
        "eZrbJ2SmphqO",
        "rFu4xreNphqO",
        "YJ55k-q6phqO",
        "gCFgpxoyphqP",
        "OVtJsKN_phqQ",
        "lssrdh5qphqQ",
        "U2RJ9gkRphqQ",
        "1M8mcRywphqQ",
        "tgIPom80phqQ",
        "JMzcOPDDphqR",
        "x-EpHcCOp1ci",
        "X_VqEhTip1ck",
        "8zGJKyg5p1ck",
        "PVzmfK_Ep1ck",
        "n3dbpmDWp1ck",
        "ylSl6qgtp1ck",
        "ZWILFDl5p1ck",
        "M7G43BXep1ck",
        "Ag9LCva-p1cl",
        "E6MkPsBcp1cl",
        "2cELzS2fp1cl",
        "3MPXvC8up1cl",
        "NC_X3p0fY2L0",
        "UV0SzAkaZNRQ",
        "YPEH6qLeZNRQ",
        "q29F0dvdveiT",
        "EXh0U9oCveiU",
        "22aHeOlLveiV",
        "JcMwzZxoAimU",
        "8G2x9gOozGDZ",
        "gCX9965dhzqZ",
        "gIfDvo9L0UH2"
      ]
    },
    "kernelspec": {
      "name": "python3",
      "display_name": "Python 3"
    },
    "language_info": {
      "name": "python"
    }
  },
  "cells": [
    {
      "cell_type": "markdown",
      "source": [
        "# **Project Name**    -  Hotel Booking Analysis\n",
        "\n"
      ],
      "metadata": {
        "id": "vncDsAP0Gaoa"
      }
    },
    {
      "cell_type": "markdown",
      "source": [
        "##### **Project Type**    - EDA/Regression/Classification/Unsupervised\n",
        "\n",
        "---\n",
        "\n",
        "\n",
        "##### **Contribution**    - Individual\n",
        "##### **Name -** Sitesh Mishra"
      ],
      "metadata": {
        "id": "beRrZCGUAJYm"
      }
    },
    {
      "cell_type": "markdown",
      "source": [
        "# **Project Summary -**"
      ],
      "metadata": {
        "id": "FJNUwmbgGyua"
      }
    },
    {
      "cell_type": "markdown",
      "source": [
        "In this project, I developed a comprehensive data analysis dashboard using Python to explore and visualize key revenue patterns in hotel bookings. The dataset, sourced from real-world booking records, includes over 30 features related to guest reservations, including booking dates, length of stay, cancellation status, room types, pricing (ADR), and customer behavior. Leveraging the power of Pandas, NumPy, and Matplotlib, the project transforms raw Excel data into meaningful revenue insights to assist hotel management in optimizing strategies, pricing, and resource allocation.\n",
        "\n",
        "(A) Objectives\n",
        "The primary goal was to extract, process, and visualize revenue-related metrics from historical hotel booking data, with a focus on:\n",
        "\n",
        "Estimating monthly and annual revenue trends\n",
        "\n",
        "Comparing revenue between different hotel types (City Hotel vs Resort Hotel)\n",
        "\n",
        "Investigating the impact of lead time, cancellations, and booking durations on revenue\n",
        "\n",
        "Creating intuitive and professional visualizations for stakeholders\n",
        "\n",
        "Practicing core data science skills: data cleaning, feature engineering, group analysis, and visual storytelling\n",
        "\n",
        "(B) Tools & Technologies Used\n",
        "Python: The backbone language for data handling and analysis\n",
        "\n",
        "Pandas: For data loading, manipulation, and grouping\n",
        "\n",
        "NumPy: For numerical operations such as calculating total revenue\n",
        "\n",
        "Matplotlib: To create custom, publication-ready charts and graphs\n",
        "\n",
        "\n",
        "(C) Approach\n",
        "Data Ingestion & Cleaning:\n",
        "\n",
        "Loaded the Excel sheet (Hotel Bookings) using Pandas.\n",
        "\n",
        "Checked for and handled null values in critical fields like adr, stays_in_week_nights, and stays_in_weekend_nights.\n",
        "\n",
        "Filtered out canceled bookings (is_canceled == 0) to focus only on revenue-generating records.\n",
        "\n",
        "Feature Engineering:\n",
        "\n",
        "Created a new column total_nights = stays_in_week_nights + stays_in_weekend_nights.\n",
        "\n",
        "Calculated estimated revenue per booking using:\n",
        "revenue = adr * total_nights\n",
        "\n",
        "Added a month_year field by combining arrival_date_month and arrival_date_year for time-based grouping.\n",
        "\n",
        "Revenue Analysis:\n",
        "\n",
        "Aggregated total revenue by:\n",
        "\n",
        "Month & Year (to show seasonal and yearly patterns)\n",
        "\n",
        "Hotel Type (City vs Resort)\n",
        "\n",
        "Compared revenue distribution by customer type (customer_type) and booking lead time.\n",
        "\n",
        "Visualization:\n",
        "\n",
        "Plotted a multi-line graph of monthly revenue across years.\n",
        "\n",
        "Created bar charts to compare hotel types.\n",
        "\n",
        "Designed a heatmap (optional) showing revenue correlation with stay duration and booking lead time.\n",
        "\n",
        "Ensured all charts were clearly labeled, color-coded, and annotated for insights.\n",
        "\n",
        "(D) Key Findings\n",
        "City Hotels consistently generated higher revenue, especially in the months of July and August.\n",
        "\n",
        "A longer lead time correlated with higher ADR but didn’t always lead to longer stays.\n",
        "\n",
        "Bookings with special requests tended to bring in higher revenue — a subtle signal that premium guests tend to personalize.\n",
        "\n",
        "Revenue dips in early months (Jan–Feb), indicating potential off-season for targeted marketing strategies.\n",
        "\n",
        "(E) Conclusion & Learnings\n",
        "This project offered a deep dive into real-world data analysis — from raw Excel data to a revenue dashboard packed with actionable insights. It strengthened my understanding of:\n",
        "\n",
        "Feature engineering in context of business KPIs\n",
        "\n",
        "Data grouping and aggregation for trend discovery\n",
        "\n",
        "Visual storytelling to drive decisions\n",
        "\n",
        "How even basic tools like Pandas and Matplotlib can power full-scale business intelligence\n",
        "\n",
        "Going forward, this project can evolve into a fully interactive web dashboard using tools like Streamlit or Plotly Dash, or even integrate predictive modeling to forecast future revenue based on historical trends.\n",
        "\n"
      ],
      "metadata": {
        "id": "F6v_1wHtG2nS"
      }
    },
    {
      "cell_type": "markdown",
      "source": [
        "# **GitHub Link -**"
      ],
      "metadata": {
        "id": "w6K7xa23Elo4"
      }
    },
    {
      "cell_type": "markdown",
      "source": [
        "Provide your GitHub Link here."
      ],
      "metadata": {
        "id": "h1o69JH3Eqqn"
      }
    },
    {
      "cell_type": "markdown",
      "source": [
        "# **Problem Statement**\n"
      ],
      "metadata": {
        "id": "yQaldy8SH6Dl"
      }
    },
    {
      "cell_type": "markdown",
      "source": [
        "**How can hotel management effectively analyze booking data to uncover actionable revenue trends, optimize pricing strategies, and improve operational efficiency across different hotel types?**"
      ],
      "metadata": {
        "id": "DpeJGUA3kjGy"
      }
    },
    {
      "cell_type": "markdown",
      "source": [
        "#### **Define Your Business Objective?**"
      ],
      "metadata": {
        "id": "PH-0ReGfmX4f"
      }
    },
    {
      "cell_type": "markdown",
      "source": [
        "To analyze hotel booking data and uncover key revenue trends that help hotel managers make data-driven decisions on pricing, marketing, and resource allocation — ultimately boosting revenue and operational efficiency.\n",
        "\n"
      ],
      "metadata": {
        "id": "PhDvGCAqmjP1"
      }
    },
    {
      "cell_type": "markdown",
      "source": [
        "# **General Guidelines** : -  "
      ],
      "metadata": {
        "id": "mDgbUHAGgjLW"
      }
    },
    {
      "cell_type": "markdown",
      "source": [
        "1.   Well-structured, formatted, and commented code is required.\n",
        "2.   Exception Handling, Production Grade Code & Deployment Ready Code will be a plus. Those students will be awarded some additional credits.\n",
        "     \n",
        "     The additional credits will have advantages over other students during Star Student selection.\n",
        "       \n",
        "             [ Note: - Deployment Ready Code is defined as, the whole .ipynb notebook should be executable in one go\n",
        "                       without a single error logged. ]\n",
        "\n",
        "3.   Each and every logic should have proper comments.\n",
        "4. You may add as many number of charts you want. Make Sure for each and every chart the following format should be answered.\n",
        "        \n",
        "\n",
        "```\n",
        "# Chart visualization code\n",
        "```\n",
        "            \n",
        "\n",
        "*   Why did you pick the specific chart?\n",
        "*   What is/are the insight(s) found from the chart?\n",
        "* Will the gained insights help creating a positive business impact?\n",
        "Are there any insights that lead to negative growth? Justify with specific reason.\n",
        "\n",
        "\n",
        "5. You have to create at least 20 logical & meaningful charts having important insights.\n",
        "\n",
        "[ Hints : - Do the Vizualization in  a structured way while following \"UBM\" Rule.\n",
        "\n",
        "U - Univariate Analysis,\n",
        "\n",
        "B - Bivariate Analysis (Numerical - Categorical, Numerical - Numerical, Categorical - Categorical)\n",
        "\n",
        "M - Multivariate Analysis\n",
        " ]\n",
        "\n",
        "\n",
        "\n",
        "\n",
        "\n"
      ],
      "metadata": {
        "id": "ZrxVaUj-hHfC"
      }
    },
    {
      "cell_type": "markdown",
      "source": [
        "# ***Let's Begin !***"
      ],
      "metadata": {
        "id": "O_i_v8NEhb9l"
      }
    },
    {
      "cell_type": "markdown",
      "source": [
        "## ***1. Know Your Data***"
      ],
      "metadata": {
        "id": "HhfV-JJviCcP"
      }
    },
    {
      "cell_type": "markdown",
      "source": [
        "### Import Libraries"
      ],
      "metadata": {
        "id": "Y3lxredqlCYt"
      }
    },
    {
      "cell_type": "code",
      "source": [
        "# Import Libraries\n",
        "import numpy as np\n",
        "import pandas as pd\n",
        "import matplotlib.pyplot as plt"
      ],
      "metadata": {
        "id": "M8Vqi-pPk-HR"
      },
      "execution_count": null,
      "outputs": []
    },
    {
      "cell_type": "markdown",
      "source": [
        "### Dataset Loading"
      ],
      "metadata": {
        "id": "3RnN4peoiCZX"
      }
    },
    {
      "cell_type": "code",
      "source": [
        "# Load Dataset\n",
        "df=pd.read_excel(\"/content/drive/MyDrive/Colab Notebooks/Datasets/Hotel Bookings.xlsx\")"
      ],
      "metadata": {
        "id": "4CkvbW_SlZ_R"
      },
      "execution_count": null,
      "outputs": []
    },
    {
      "cell_type": "code",
      "source": [
        "from google.colab import drive\n",
        "drive.mount('/content/drive')"
      ],
      "metadata": {
        "id": "-HdOJ_J8FFtK"
      },
      "execution_count": null,
      "outputs": []
    },
    {
      "cell_type": "markdown",
      "source": [
        "### Dataset First View"
      ],
      "metadata": {
        "id": "x71ZqKXriCWQ"
      }
    },
    {
      "cell_type": "code",
      "source": [
        "# Dataset First Look\n",
        "df.head()"
      ],
      "metadata": {
        "id": "LWNFOSvLl09H"
      },
      "execution_count": null,
      "outputs": []
    },
    {
      "cell_type": "markdown",
      "source": [
        "### Dataset Rows & Columns count"
      ],
      "metadata": {
        "id": "7hBIi_osiCS2"
      }
    },
    {
      "cell_type": "code",
      "source": [
        "# Dataset Rows & Columns count\n",
        "df.shape"
      ],
      "metadata": {
        "id": "Kllu7SJgmLij"
      },
      "execution_count": null,
      "outputs": []
    },
    {
      "cell_type": "markdown",
      "source": [
        "### Dataset Information"
      ],
      "metadata": {
        "id": "JlHwYmJAmNHm"
      }
    },
    {
      "cell_type": "code",
      "source": [
        "# Dataset Info\n",
        "df.info()"
      ],
      "metadata": {
        "id": "e9hRXRi6meOf"
      },
      "execution_count": null,
      "outputs": []
    },
    {
      "cell_type": "markdown",
      "source": [
        "#### Duplicate Values"
      ],
      "metadata": {
        "id": "35m5QtbWiB9F"
      }
    },
    {
      "cell_type": "code",
      "source": [
        "# Dataset Duplicate Value Count\n",
        "duplicate_count = df.duplicated().sum()\n",
        "print(f\"Total duplicate rows: {duplicate_count}\")\n"
      ],
      "metadata": {
        "id": "1sLdpKYkmox0"
      },
      "execution_count": null,
      "outputs": []
    },
    {
      "cell_type": "markdown",
      "source": [
        "#### Missing Values/Null Values"
      ],
      "metadata": {
        "id": "PoPl-ycgm1ru"
      }
    },
    {
      "cell_type": "code",
      "source": [
        "# Missing Values/Null Values Count\n",
        "df.isnull().sum()\n"
      ],
      "metadata": {
        "id": "GgHWkxvamxVg"
      },
      "execution_count": null,
      "outputs": []
    },
    {
      "cell_type": "code",
      "source": [
        "# Visualizing the missing values\n",
        "plt.bar(df.columns, df.isnull().sum())\n",
        "plt.xticks(rotation=90)\n",
        "plt.ylabel(\"Missing Count\")\n",
        "plt.title(\"Missing Values per Column\")\n",
        "plt.show()"
      ],
      "metadata": {
        "id": "3q5wnI3om9sJ"
      },
      "execution_count": null,
      "outputs": []
    },
    {
      "cell_type": "markdown",
      "source": [
        "### What did you know about your dataset?"
      ],
      "metadata": {
        "id": "H0kj-8xxnORC"
      }
    },
    {
      "cell_type": "markdown",
      "source": [
        "The dataset contains hotel booking records with 32 columns, including booking details, guest information, stay duration, and financial data. It helps analyze trends in revenue, cancellations, guest behavior, and booking patterns across City and Resort hotels."
      ],
      "metadata": {
        "id": "gfoNAAC-nUe_"
      }
    },
    {
      "cell_type": "markdown",
      "source": [
        "## ***2. Understanding Your Variables***"
      ],
      "metadata": {
        "id": "nA9Y7ga8ng1Z"
      }
    },
    {
      "cell_type": "code",
      "source": [
        "# Dataset Columns\n",
        "df.columns"
      ],
      "metadata": {
        "id": "j7xfkqrt5Ag5"
      },
      "execution_count": null,
      "outputs": []
    },
    {
      "cell_type": "code",
      "source": [
        "# Dataset Describe\n",
        "df.describe()"
      ],
      "metadata": {
        "id": "DnOaZdaE5Q5t"
      },
      "execution_count": null,
      "outputs": []
    },
    {
      "cell_type": "markdown",
      "source": [
        "### Variables Description"
      ],
      "metadata": {
        "id": "PBTbrJXOngz2"
      }
    },
    {
      "cell_type": "markdown",
      "source": [
        "hotel – Type of hotel (City or Resort)\n",
        "\n",
        "is_canceled – Whether the booking was canceled (1 = Yes, 0 = No)\n",
        "\n",
        "lead_time – Days between booking and arrival\n",
        "\n",
        "arrival_date_* – Year, month, week, and day of arrival\n",
        "\n",
        "stays_in_week_nights / weekend_nights – Nights stayed during the week/weekend\n",
        "\n",
        "adults, children, babies – Number of guests\n",
        "\n",
        "meal – Meal plan selected\n",
        "\n",
        "country – Guest’s country of origin\n",
        "\n",
        "market_segment – Booking source (e.g., Online, Offline)\n",
        "\n",
        "distribution_channel – How the booking was distributed\n",
        "\n",
        "is_repeated_guest – If the guest has booked before\n",
        "\n",
        "previous_cancellations – Past cancellations by the guest\n",
        "\n",
        "reserved_room_type / assigned_room_type – Room types booked vs. assigned\n",
        "\n",
        "booking_changes – Number of changes to the reservation\n",
        "\n",
        "deposit_type – Type of deposit paid (if any)\n",
        "\n",
        "agent / company – Booking agent or company ID\n",
        "\n",
        "days_in_waiting_list – Days the booking was on hold\n",
        "\n",
        "customer_type – Guest type (Transient, Group, etc.)\n",
        "\n",
        "adr – Average Daily Rate (price per room per night)\n",
        "\n",
        "required_car_parking_spaces – Number of parking spaces requested\n",
        "\n",
        "total_of_special_requests – Number of guest requests (like extra bed, etc.)\n",
        "\n",
        "reservation_status – Final status (Check-Out, Canceled, No-Show)\n",
        "\n",
        "reservation_status_date – Date when the status was set\n",
        "\n"
      ],
      "metadata": {
        "id": "aJV4KIxSnxay"
      }
    },
    {
      "cell_type": "markdown",
      "source": [
        "### Check Unique Values for each variable."
      ],
      "metadata": {
        "id": "u3PMJOP6ngxN"
      }
    },
    {
      "cell_type": "code",
      "source": [
        "# Check Unique Values for each variable.\n",
        "df.nunique()\n"
      ],
      "metadata": {
        "id": "zms12Yq5n-jE"
      },
      "execution_count": null,
      "outputs": []
    },
    {
      "cell_type": "markdown",
      "source": [
        "## 3. ***Data Wrangling***"
      ],
      "metadata": {
        "id": "dauF4eBmngu3"
      }
    },
    {
      "cell_type": "markdown",
      "source": [
        "### Data Wrangling Code"
      ],
      "metadata": {
        "id": "bKJF3rekwFvQ"
      }
    },
    {
      "cell_type": "code",
      "source": [
        "# Write your code to make your dataset analysis ready.\n",
        "# Drop rows with missing values in essential columns\n",
        "essential_cols = ['adr', 'stays_in_week_nights', 'stays_in_weekend_nights']\n",
        "df.dropna(subset=essential_cols, inplace=True)\n",
        "\n",
        "# Fill other missing values (like 'children', 'agent', 'company') with reasonable defaults\n",
        "df['children'] = df['children'].fillna(0)\n",
        "df['agent'] = df['agent'].fillna(0)\n",
        "df['company'] = df['company'].fillna(0)\n",
        "df['country'] = df['country'].fillna('Unknown')\n",
        "\n",
        "\n",
        "# Convert data types where necessary\n",
        "df['agent'] = df['agent'].astype(int)\n",
        "df['company'] = df['company'].astype(int)\n",
        "df['children'] = df['children'].astype(int)\n",
        "\n",
        "# Create new feature: total stay nights\n",
        "df['total_nights'] = df['stays_in_week_nights'] + df['stays_in_weekend_nights']\n",
        "\n",
        "# Create revenue column (ADR × total_nights), but only for non-canceled bookings\n",
        "df['revenue'] = np.where(df['is_canceled'] == 0, df['adr'] * df['total_nights'], 0)\n",
        "\n",
        "#  Create a combined Month-Year field for time series grouping\n",
        "df['month_year'] = df['arrival_date_month'] + '-' + df['arrival_date_year'].astype(str)\n",
        "\n",
        "#  Reset index (clean start)\n",
        "df.reset_index(drop=True, inplace=True)\n",
        "df.head()\n"
      ],
      "metadata": {
        "id": "wk-9a2fpoLcV"
      },
      "execution_count": null,
      "outputs": []
    },
    {
      "cell_type": "markdown",
      "source": [
        "### What all manipulations have you done and insights you found?"
      ],
      "metadata": {
        "id": "MSa1f5Uengrz"
      }
    },
    {
      "cell_type": "markdown",
      "source": [
        "(A) Manipulations Done:\n",
        "Handled missing values (children, agent, company, country)\n",
        "\n",
        "Removed rows with critical nulls (adr, stay columns)\n",
        "\n",
        "Converted data types (to int)\n",
        "\n",
        "Created new columns:\n",
        "\n",
        "total_nights = week + weekend nights\n",
        "\n",
        "revenue = ADR × total nights (only for non-canceled bookings)\n",
        "\n",
        "month_year for time-series grouping\n",
        "\n",
        "Checked for duplicates and visualized missing data\n",
        "\n",
        "(B) Insights Found:\n",
        "City hotels earned consistent revenue; Resort hotels peaked in summer\n",
        "\n",
        "Higher lead time slightly increases cancellation chance\n",
        "\n",
        "Guests with more special requests contributed higher revenue\n",
        "\n",
        "Bookings spike in July–August; drop in Jan–Feb (off-season)"
      ],
      "metadata": {
        "id": "LbyXE7I1olp8"
      }
    },
    {
      "cell_type": "markdown",
      "source": [
        "## ***4. Data Vizualization, Storytelling & Experimenting with charts : Understand the relationships between variables***"
      ],
      "metadata": {
        "id": "GF8Ens_Soomf"
      }
    },
    {
      "cell_type": "markdown",
      "source": [
        "#### Chart - 1"
      ],
      "metadata": {
        "id": "0wOQAZs5pc--"
      }
    },
    {
      "cell_type": "code",
      "source": [
        "# Chart - 1 visualization code\n",
        "# Filter only non-canceled bookings\n",
        "df_clean = df[df['is_canceled'] == 0]\n",
        "\n",
        "# Group revenue by month and hotel\n",
        "rev = df_clean.groupby(['arrival_date_month', 'hotel'])['revenue'].sum().unstack()\n",
        "\n",
        "# Reorder months for correct x-axis display\n",
        "rev = rev.reindex(['January','February','March','April','May','June',\n",
        "                   'July','August','September','October','November','December'])\n",
        "\n",
        "# Plotting\n",
        "rev.plot(kind='line', marker='o', figsize=(10, 5))\n",
        "plt.title('Monthly Revenue by Hotel Type')\n",
        "plt.xlabel('Month')\n",
        "plt.ylabel('Revenue')\n",
        "plt.grid(True)\n",
        "plt.tight_layout()\n",
        "plt.show()"
      ],
      "metadata": {
        "id": "7v_ESjsspbW7"
      },
      "execution_count": null,
      "outputs": []
    },
    {
      "cell_type": "markdown",
      "source": [
        "##### 1. Why did you pick the specific chart?"
      ],
      "metadata": {
        "id": "K5QZ13OEpz2H"
      }
    },
    {
      "cell_type": "markdown",
      "source": [
        "Because it shows:\n",
        "1.When each hotel earns the most\n",
        "2.Which hotel performs better in which month\n",
        "3.Super useful for seasonal planning"
      ],
      "metadata": {
        "id": "XESiWehPqBRc"
      }
    },
    {
      "cell_type": "markdown",
      "source": [
        "##### 2. What is/are the insight(s) found from the chart?"
      ],
      "metadata": {
        "id": "lQ7QKXXCp7Bj"
      }
    },
    {
      "cell_type": "markdown",
      "source": [
        "1.Resort Hotels peak in summer (July & August) – likely due to holidays and tourism season.\n",
        "\n",
        "2.City Hotels show steady revenue year-round, with slight drops in early months (Jan–Feb).\n",
        "\n",
        "3.Off-season dip is visible for both hotel types during winter months (especially January).\n",
        "\n",
        "4.City Hotels outperform Resort Hotels in the off-peak months — suggesting more business travel during non-vacation times.\n",
        "\n"
      ],
      "metadata": {
        "id": "C_j1G7yiqdRP"
      }
    },
    {
      "cell_type": "markdown",
      "source": [
        "##### 3. Will the gained insights help creating a positive business impact?\n",
        "Are there any insights that lead to negative growth? Justify with specific reason."
      ],
      "metadata": {
        "id": "448CDAPjqfQr"
      }
    },
    {
      "cell_type": "markdown",
      "source": [
        "Yes, the insights gained from the chart can create a positive business impact by helping hotels plan better for high and low seasons. For example, knowing that Resort Hotels peak in revenue during July and August allows management to increase pricing, staff accordingly, and focus marketing efforts during those months. City Hotels, which show consistent revenue, can focus on business travelers year-round. However, if the observed dip in January and February is ignored, it could lead to underutilized resources and missed revenue opportunities. While the insights themselves don’t directly lead to negative growth, failing to act on them or relying too heavily on peak seasons can result in poor performance during off-peak periods.\n"
      ],
      "metadata": {
        "id": "3cspy4FjqxJW"
      }
    },
    {
      "cell_type": "markdown",
      "source": [
        "#### Chart - 2"
      ],
      "metadata": {
        "id": "KSlN3yHqYklG"
      }
    },
    {
      "cell_type": "code",
      "source": [
        "# Chart - 2 visualization code\n",
        "\n",
        "# Group by reserved room type and calculate average ADR\n",
        "adr_by_room = df.groupby('reserved_room_type')['adr'].mean().sort_values()\n",
        "\n",
        "# Plot\n",
        "adr_by_room.plot(kind='bar', color='lightgreen')\n",
        "plt.title('Average Daily Rate (ADR) by Room Type')\n",
        "plt.xlabel('Room Type')\n",
        "plt.ylabel('Average Daily Rate')\n",
        "plt.tight_layout()\n",
        "plt.show()\n"
      ],
      "metadata": {
        "id": "R4YgtaqtYklH"
      },
      "execution_count": null,
      "outputs": []
    },
    {
      "cell_type": "markdown",
      "source": [
        "##### 1. Why did you pick the specific chart?"
      ],
      "metadata": {
        "id": "t6dVpIINYklI"
      }
    },
    {
      "cell_type": "markdown",
      "source": [
        "\n",
        "\n",
        "1.To identify which room types generate more revenue per night\n",
        "\n",
        "2.Helps in pricing strategy and deciding which rooms to promote or upsell\n",
        "\n",
        "3.Reveals underperforming room types with low ADR\n"
      ],
      "metadata": {
        "id": "5aaW0BYyYklI"
      }
    },
    {
      "cell_type": "markdown",
      "source": [
        "##### 2. What is/are the insight(s) found from the chart?"
      ],
      "metadata": {
        "id": "ijmpgYnKYklI"
      }
    },
    {
      "cell_type": "markdown",
      "source": [
        "The chart shows that some room types have significantly higher ADR, meaning they generate more revenue per night. These high-ADR rooms (like Type H or G) are ideal for upselling. Lower ADR rooms may be underpriced or used for budget guests, suggesting a chance to review pricing or promote them in bulk deals.\n"
      ],
      "metadata": {
        "id": "PSx9atu2YklI"
      }
    },
    {
      "cell_type": "markdown",
      "source": [
        "##### 3. Will the gained insights help creating a positive business impact?\n",
        "Are there any insights that lead to negative growth? Justify with specific reason."
      ],
      "metadata": {
        "id": "-JiQyfWJYklI"
      }
    },
    {
      "cell_type": "markdown",
      "source": [
        "Yes, the insights help increase revenue by highlighting high-ADR room types for upselling. No direct negative impact, but ignoring low-ADR rooms could mean missed revenue opportunities."
      ],
      "metadata": {
        "id": "BcBbebzrYklV"
      }
    },
    {
      "cell_type": "markdown",
      "source": [
        "#### Chart - 3"
      ],
      "metadata": {
        "id": "EM7whBJCYoAo"
      }
    },
    {
      "cell_type": "code",
      "source": [
        "# Chart - 3 visualization code\n",
        "\n",
        "# Calculate cancellation rate per customer type\n",
        "cancel_by_type = df.groupby('customer_type')['is_canceled'].mean() * 100\n",
        "\n",
        "# Plot\n",
        "cancel_by_type.plot(kind='bar', color='coral')\n",
        "plt.title('Cancellation Rate by Customer Type')\n",
        "plt.ylabel('Cancellation Rate (%)')\n",
        "plt.xlabel('Customer Type')\n",
        "plt.tight_layout()\n",
        "plt.show()\n"
      ],
      "metadata": {
        "id": "t6GMdE67YoAp"
      },
      "execution_count": null,
      "outputs": []
    },
    {
      "cell_type": "markdown",
      "source": [
        "##### 1. Why did you pick the specific chart?"
      ],
      "metadata": {
        "id": "fge-S5ZAYoAp"
      }
    },
    {
      "cell_type": "markdown",
      "source": [
        "I chose this chart to understand which customer types cancel most often, as cancellations directly impact revenue and resource planning. By identifying high-risk groups (like \"Group\" or \"Transient-party\"), the hotel can take action — such as stricter policies or better follow-up — to reduce cancellations and improve booking reliability."
      ],
      "metadata": {
        "id": "5dBItgRVYoAp"
      }
    },
    {
      "cell_type": "markdown",
      "source": [
        "##### 2. What is/are the insight(s) found from the chart?"
      ],
      "metadata": {
        "id": "85gYPyotYoAp"
      }
    },
    {
      "cell_type": "markdown",
      "source": [
        "The chart shows that group and transient-party customers have the highest cancellation rates, while contract customers cancel the least. This means group bookings are less reliable and may need stricter policies."
      ],
      "metadata": {
        "id": "4jstXR6OYoAp"
      }
    },
    {
      "cell_type": "markdown",
      "source": [
        "##### 3. Will the gained insights help creating a positive business impact?\n",
        "Are there any insights that lead to negative growth? Justify with specific reason."
      ],
      "metadata": {
        "id": "RoGjAbkUYoAp"
      }
    },
    {
      "cell_type": "markdown",
      "source": [
        " the insight helps reduce cancellations by targeting high-risk customer types with stricter policies. If ignored, frequent group cancellations can lead to revenue loss and poor room planning.\n"
      ],
      "metadata": {
        "id": "zfJ8IqMcYoAp"
      }
    },
    {
      "cell_type": "markdown",
      "source": [
        "#### Chart - 4"
      ],
      "metadata": {
        "id": "4Of9eVA-YrdM"
      }
    },
    {
      "cell_type": "code",
      "source": [
        "# Chart - 4 visualization code\n",
        "df['arrival_date_month'].value_counts().plot(kind='bar', color='lightblue')\n",
        "plt.title('Bookings per Month')\n",
        "plt.xlabel('Month')\n",
        "plt.ylabel('Total Bookings')\n",
        "plt.show()\n"
      ],
      "metadata": {
        "id": "irlUoxc8YrdO"
      },
      "execution_count": null,
      "outputs": []
    },
    {
      "cell_type": "markdown",
      "source": [
        "##### 1. Why did you pick the specific chart?"
      ],
      "metadata": {
        "id": "iky9q4vBYrdO"
      }
    },
    {
      "cell_type": "markdown",
      "source": [
        "I picked this chart because it helps us understand **when people book the most** throughout the year. It's simple, clear, and shows the **seasonal demand trends** — which months are busy and which are slow. This is super useful for hotels to plan pricing, staff, and offers. Plus, it’s perfect for beginners learning how to connect data to real business decisions.\n"
      ],
      "metadata": {
        "id": "aJRCwT6DYrdO"
      }
    },
    {
      "cell_type": "markdown",
      "source": [
        "##### 2. What is/are the insight(s) found from the chart?"
      ],
      "metadata": {
        "id": "F6T5p64dYrdO"
      }
    },
    {
      "cell_type": "markdown",
      "source": [
        "The chart shows that **bookings are highest in July and August**, indicating peak season, while **January and February have the least bookings**, suggesting off-season. This helps hotels focus marketing and pricing strategies based on demand.\n"
      ],
      "metadata": {
        "id": "Xx8WAJvtYrdO"
      }
    },
    {
      "cell_type": "markdown",
      "source": [
        "##### 3. Will the gained insights help creating a positive business impact?\n",
        "Are there any insights that lead to negative growth? Justify with specific reason."
      ],
      "metadata": {
        "id": "y-Ehk30pYrdP"
      }
    },
    {
      "cell_type": "markdown",
      "source": [
        "Yes, the insight helps boost business by showing peak and off-season months. Hotels can raise prices in busy months and offer discounts in slow months. Ignoring this may lead to empty rooms and lost revenue.\n"
      ],
      "metadata": {
        "id": "jLNxxz7MYrdP"
      }
    },
    {
      "cell_type": "markdown",
      "source": [
        "#### Chart - 5"
      ],
      "metadata": {
        "id": "bamQiAODYuh1"
      }
    },
    {
      "cell_type": "code",
      "source": [
        "# Chart - 5 visualization code\n",
        "\n",
        "# Group by number of special requests and calculate cancellation rate\n",
        "cancel_by_request = df.groupby('total_of_special_requests')['is_canceled'].mean() * 100\n",
        "\n",
        "# Plot\n",
        "cancel_by_request.plot(kind='bar', color='orchid')\n",
        "plt.title('Cancellation Rate by Number of Special Requests')\n",
        "plt.xlabel('Total Special Requests')\n",
        "plt.ylabel('Cancellation Rate (%)')\n",
        "plt.tight_layout()\n",
        "plt.show()\n"
      ],
      "metadata": {
        "id": "TIJwrbroYuh3"
      },
      "execution_count": null,
      "outputs": []
    },
    {
      "cell_type": "markdown",
      "source": [
        "##### 1. Why did you pick the specific chart?"
      ],
      "metadata": {
        "id": "QHF8YVU7Yuh3"
      }
    },
    {
      "cell_type": "markdown",
      "source": [
        "chose this chart to see if guests with more special requests are less likely to cancel. It helps identify serious or loyal customers and lets hotels focus on them to reduce cancellations."
      ],
      "metadata": {
        "id": "dcxuIMRPYuh3"
      }
    },
    {
      "cell_type": "markdown",
      "source": [
        "##### 2. What is/are the insight(s) found from the chart?"
      ],
      "metadata": {
        "id": "GwzvFGzlYuh3"
      }
    },
    {
      "cell_type": "markdown",
      "source": [
        "The chart shows that guests with **more special requests** have a **lower cancellation rate**, while those with **no requests cancel the most**. This means guests making requests are more serious about their bookings.\n"
      ],
      "metadata": {
        "id": "uyqkiB8YYuh3"
      }
    },
    {
      "cell_type": "markdown",
      "source": [
        "##### 3. Will the gained insights help creating a positive business impact?\n",
        "Are there any insights that lead to negative growth? Justify with specific reason."
      ],
      "metadata": {
        "id": "qYpmQ266Yuh3"
      }
    },
    {
      "cell_type": "markdown",
      "source": [
        "Yes, the insight helps create a positive impact by identifying serious customers through special requests, allowing hotels to prioritize and retain them.\n",
        "\n",
        "No direct negative impact, but ignoring this could lead to missed chances for improving guest loyalty and reducing cancellations.\n"
      ],
      "metadata": {
        "id": "_WtzZ_hCYuh4"
      }
    },
    {
      "cell_type": "markdown",
      "source": [
        "#### Chart - 6"
      ],
      "metadata": {
        "id": "OH-pJp9IphqM"
      }
    },
    {
      "cell_type": "code",
      "source": [
        "# Chart - 6 visualization code\n",
        "# Calculate average ADR by market segment\n",
        "adr_by_segment = df.groupby('market_segment')['adr'].mean().sort_values()\n",
        "\n",
        "# Plot\n",
        "adr_by_segment.plot(kind='bar', color='mediumseagreen')\n",
        "plt.title('Average Daily Rate by Market Segment')\n",
        "plt.xlabel('Market Segment')\n",
        "plt.ylabel('Average Daily Rate')\n",
        "plt.tight_layout()\n",
        "plt.show()\n"
      ],
      "metadata": {
        "id": "kuRf4wtuphqN"
      },
      "execution_count": null,
      "outputs": []
    },
    {
      "cell_type": "markdown",
      "source": [
        "##### 1. Why did you pick the specific chart?"
      ],
      "metadata": {
        "id": "bbFf2-_FphqN"
      }
    },
    {
      "cell_type": "markdown",
      "source": [
        " picked this chart to find out which **market segments bring in the most revenue per room**. It helps the hotel focus on the most profitable booking sources and improve pricing or marketing strategies based on where the money comes from.\n"
      ],
      "metadata": {
        "id": "loh7H2nzphqN"
      }
    },
    {
      "cell_type": "markdown",
      "source": [
        "##### 2. What is/are the insight(s) found from the chart?"
      ],
      "metadata": {
        "id": "_ouA3fa0phqN"
      }
    },
    {
      "cell_type": "markdown",
      "source": [
        "The chart shows that **Corporate** and **Direct** market segments have the **highest average daily rates (ADR)**, meaning they generate more revenue per booking. In contrast, **Online Travel Agencies (OTA)** bring in a lower ADR, indicating they may drive volume but not high profit per room. This helps the hotel identify which segments are most valuable and where to focus for higher revenue.\n",
        "\n",
        "\n"
      ],
      "metadata": {
        "id": "VECbqPI7phqN"
      }
    },
    {
      "cell_type": "markdown",
      "source": [
        "##### 3. Will the gained insights help creating a positive business impact?\n",
        "Are there any insights that lead to negative growth? Justify with specific reason."
      ],
      "metadata": {
        "id": "Seke61FWphqN"
      }
    },
    {
      "cell_type": "markdown",
      "source": [
        "Yes, the insight helps boost profit by focusing on high-ADR segments like Corporate and Direct. Relying too much on low-ADR segments like OTA may hurt revenue despite high bookings.\n"
      ],
      "metadata": {
        "id": "DW4_bGpfphqN"
      }
    },
    {
      "cell_type": "markdown",
      "source": [
        "#### Chart - 7"
      ],
      "metadata": {
        "id": "PIIx-8_IphqN"
      }
    },
    {
      "cell_type": "code",
      "source": [
        "# Chart - 7 visualization code\n",
        "# Count bookings by country\n",
        "top_countries = df['country'].value_counts().head(10)\n",
        "\n",
        "# Plot\n",
        "top_countries.plot(kind='bar', color='skyblue')\n",
        "plt.title('Top 10 Countries by Bookings')\n",
        "plt.xlabel('Country')\n",
        "plt.ylabel('Number of Bookings')\n",
        "plt.tight_layout()\n",
        "plt.show()\n"
      ],
      "metadata": {
        "id": "lqAIGUfyphqO"
      },
      "execution_count": null,
      "outputs": []
    },
    {
      "cell_type": "markdown",
      "source": [
        "##### 1. Why did you pick the specific chart?"
      ],
      "metadata": {
        "id": "t27r6nlMphqO"
      }
    },
    {
      "cell_type": "markdown",
      "source": [
        "I picked this chart to find out **which countries most guests come from**. It helps hotels understand their key markets and focus on **targeted marketing, language support, or promotions** for those countries to attract more bookings and improve guest experience.\n"
      ],
      "metadata": {
        "id": "iv6ro40sphqO"
      }
    },
    {
      "cell_type": "markdown",
      "source": [
        "##### 2. What is/are the insight(s) found from the chart?"
      ],
      "metadata": {
        "id": "r2jJGEOYphqO"
      }
    },
    {
      "cell_type": "markdown",
      "source": [
        "The chart shows that most bookings come from a few countries like **Portugal, the UK, and France**, meaning these are the hotel’s top markets. This insight helps focus marketing efforts, offer localized services, and build stronger connections with frequent international guests.\n"
      ],
      "metadata": {
        "id": "Po6ZPi4hphqO"
      }
    },
    {
      "cell_type": "markdown",
      "source": [
        "##### 3. Will the gained insights help creating a positive business impact?\n",
        "Are there any insights that lead to negative growth? Justify with specific reason."
      ],
      "metadata": {
        "id": "b0JNsNcRphqO"
      }
    },
    {
      "cell_type": "markdown",
      "source": [
        "Yes, the insight helps boost business by targeting top countries with marketing and services. But over-reliance on a few countries can be risky if travel drops, so diversifying is important."
      ],
      "metadata": {
        "id": "xvSq8iUTphqO"
      }
    },
    {
      "cell_type": "markdown",
      "source": [
        "#### Chart - 8"
      ],
      "metadata": {
        "id": "BZR9WyysphqO"
      }
    },
    {
      "cell_type": "code",
      "source": [
        "# Chart - 8 visualization code"
      ],
      "metadata": {
        "id": "TdPTWpAVphqO"
      },
      "execution_count": null,
      "outputs": []
    },
    {
      "cell_type": "markdown",
      "source": [
        "##### 1. Why did you pick the specific chart?"
      ],
      "metadata": {
        "id": "jj7wYXLtphqO"
      }
    },
    {
      "cell_type": "markdown",
      "source": [
        "Answer Here."
      ],
      "metadata": {
        "id": "Ob8u6rCTphqO"
      }
    },
    {
      "cell_type": "markdown",
      "source": [
        "##### 2. What is/are the insight(s) found from the chart?"
      ],
      "metadata": {
        "id": "eZrbJ2SmphqO"
      }
    },
    {
      "cell_type": "markdown",
      "source": [
        "Answer Here"
      ],
      "metadata": {
        "id": "mZtgC_hjphqO"
      }
    },
    {
      "cell_type": "markdown",
      "source": [
        "##### 3. Will the gained insights help creating a positive business impact?\n",
        "Are there any insights that lead to negative growth? Justify with specific reason."
      ],
      "metadata": {
        "id": "rFu4xreNphqO"
      }
    },
    {
      "cell_type": "markdown",
      "source": [
        "Answer Here"
      ],
      "metadata": {
        "id": "ey_0qi68phqO"
      }
    },
    {
      "cell_type": "markdown",
      "source": [
        "#### Chart - 9"
      ],
      "metadata": {
        "id": "YJ55k-q6phqO"
      }
    },
    {
      "cell_type": "code",
      "source": [
        "# Chart - 9 visualization code"
      ],
      "metadata": {
        "id": "B2aS4O1ophqO"
      },
      "execution_count": null,
      "outputs": []
    },
    {
      "cell_type": "markdown",
      "source": [
        "##### 1. Why did you pick the specific chart?"
      ],
      "metadata": {
        "id": "gCFgpxoyphqP"
      }
    },
    {
      "cell_type": "markdown",
      "source": [
        "Answer Here."
      ],
      "metadata": {
        "id": "TVxDimi2phqP"
      }
    },
    {
      "cell_type": "markdown",
      "source": [
        "##### 2. What is/are the insight(s) found from the chart?"
      ],
      "metadata": {
        "id": "OVtJsKN_phqQ"
      }
    },
    {
      "cell_type": "markdown",
      "source": [
        "Answer Here"
      ],
      "metadata": {
        "id": "ngGi97qjphqQ"
      }
    },
    {
      "cell_type": "markdown",
      "source": [
        "##### 3. Will the gained insights help creating a positive business impact?\n",
        "Are there any insights that lead to negative growth? Justify with specific reason."
      ],
      "metadata": {
        "id": "lssrdh5qphqQ"
      }
    },
    {
      "cell_type": "markdown",
      "source": [
        "Answer Here"
      ],
      "metadata": {
        "id": "tBpY5ekJphqQ"
      }
    },
    {
      "cell_type": "markdown",
      "source": [
        "#### Chart - 10"
      ],
      "metadata": {
        "id": "U2RJ9gkRphqQ"
      }
    },
    {
      "cell_type": "code",
      "source": [
        "# Chart - 10 visualization code"
      ],
      "metadata": {
        "id": "GM7a4YP4phqQ"
      },
      "execution_count": null,
      "outputs": []
    },
    {
      "cell_type": "markdown",
      "source": [
        "##### 1. Why did you pick the specific chart?"
      ],
      "metadata": {
        "id": "1M8mcRywphqQ"
      }
    },
    {
      "cell_type": "markdown",
      "source": [
        "Answer Here."
      ],
      "metadata": {
        "id": "8agQvks0phqQ"
      }
    },
    {
      "cell_type": "markdown",
      "source": [
        "##### 2. What is/are the insight(s) found from the chart?"
      ],
      "metadata": {
        "id": "tgIPom80phqQ"
      }
    },
    {
      "cell_type": "markdown",
      "source": [
        "Answer Here"
      ],
      "metadata": {
        "id": "Qp13pnNzphqQ"
      }
    },
    {
      "cell_type": "markdown",
      "source": [
        "##### 3. Will the gained insights help creating a positive business impact?\n",
        "Are there any insights that lead to negative growth? Justify with specific reason."
      ],
      "metadata": {
        "id": "JMzcOPDDphqR"
      }
    },
    {
      "cell_type": "markdown",
      "source": [
        "Answer Here"
      ],
      "metadata": {
        "id": "R4Ka1PC2phqR"
      }
    },
    {
      "cell_type": "markdown",
      "source": [
        "#### Chart - 11"
      ],
      "metadata": {
        "id": "x-EpHcCOp1ci"
      }
    },
    {
      "cell_type": "code",
      "source": [
        "# Chart - 11 visualization code"
      ],
      "metadata": {
        "id": "mAQTIvtqp1cj"
      },
      "execution_count": null,
      "outputs": []
    },
    {
      "cell_type": "markdown",
      "source": [
        "##### 1. Why did you pick the specific chart?"
      ],
      "metadata": {
        "id": "X_VqEhTip1ck"
      }
    },
    {
      "cell_type": "markdown",
      "source": [
        "Answer Here."
      ],
      "metadata": {
        "id": "-vsMzt_np1ck"
      }
    },
    {
      "cell_type": "markdown",
      "source": [
        "##### 2. What is/are the insight(s) found from the chart?"
      ],
      "metadata": {
        "id": "8zGJKyg5p1ck"
      }
    },
    {
      "cell_type": "markdown",
      "source": [
        "Answer Here"
      ],
      "metadata": {
        "id": "ZYdMsrqVp1ck"
      }
    },
    {
      "cell_type": "markdown",
      "source": [
        "##### 3. Will the gained insights help creating a positive business impact?\n",
        "Are there any insights that lead to negative growth? Justify with specific reason."
      ],
      "metadata": {
        "id": "PVzmfK_Ep1ck"
      }
    },
    {
      "cell_type": "markdown",
      "source": [
        "Answer Here"
      ],
      "metadata": {
        "id": "druuKYZpp1ck"
      }
    },
    {
      "cell_type": "markdown",
      "source": [
        "#### Chart - 12"
      ],
      "metadata": {
        "id": "n3dbpmDWp1ck"
      }
    },
    {
      "cell_type": "code",
      "source": [
        "# Chart - 12 visualization code"
      ],
      "metadata": {
        "id": "bwevp1tKp1ck"
      },
      "execution_count": null,
      "outputs": []
    },
    {
      "cell_type": "markdown",
      "source": [
        "##### 1. Why did you pick the specific chart?"
      ],
      "metadata": {
        "id": "ylSl6qgtp1ck"
      }
    },
    {
      "cell_type": "markdown",
      "source": [
        "Answer Here."
      ],
      "metadata": {
        "id": "m2xqNkiQp1ck"
      }
    },
    {
      "cell_type": "markdown",
      "source": [
        "##### 2. What is/are the insight(s) found from the chart?"
      ],
      "metadata": {
        "id": "ZWILFDl5p1ck"
      }
    },
    {
      "cell_type": "markdown",
      "source": [
        "Answer Here"
      ],
      "metadata": {
        "id": "x-lUsV2mp1ck"
      }
    },
    {
      "cell_type": "markdown",
      "source": [
        "##### 3. Will the gained insights help creating a positive business impact?\n",
        "Are there any insights that lead to negative growth? Justify with specific reason."
      ],
      "metadata": {
        "id": "M7G43BXep1ck"
      }
    },
    {
      "cell_type": "markdown",
      "source": [
        "Answer Here"
      ],
      "metadata": {
        "id": "5wwDJXsLp1cl"
      }
    },
    {
      "cell_type": "markdown",
      "source": [
        "#### Chart - 13"
      ],
      "metadata": {
        "id": "Ag9LCva-p1cl"
      }
    },
    {
      "cell_type": "code",
      "source": [
        "# Chart - 13 visualization code"
      ],
      "metadata": {
        "id": "EUfxeq9-p1cl"
      },
      "execution_count": null,
      "outputs": []
    },
    {
      "cell_type": "markdown",
      "source": [
        "##### 1. Why did you pick the specific chart?"
      ],
      "metadata": {
        "id": "E6MkPsBcp1cl"
      }
    },
    {
      "cell_type": "markdown",
      "source": [
        "Answer Here."
      ],
      "metadata": {
        "id": "V22bRsFWp1cl"
      }
    },
    {
      "cell_type": "markdown",
      "source": [
        "##### 2. What is/are the insight(s) found from the chart?"
      ],
      "metadata": {
        "id": "2cELzS2fp1cl"
      }
    },
    {
      "cell_type": "markdown",
      "source": [
        "Answer Here"
      ],
      "metadata": {
        "id": "ozQPc2_Ip1cl"
      }
    },
    {
      "cell_type": "markdown",
      "source": [
        "##### 3. Will the gained insights help creating a positive business impact?\n",
        "Are there any insights that lead to negative growth? Justify with specific reason."
      ],
      "metadata": {
        "id": "3MPXvC8up1cl"
      }
    },
    {
      "cell_type": "markdown",
      "source": [
        "Answer Here"
      ],
      "metadata": {
        "id": "GL8l1tdLp1cl"
      }
    },
    {
      "cell_type": "markdown",
      "source": [
        "#### Chart - 14 - Correlation Heatmap"
      ],
      "metadata": {
        "id": "NC_X3p0fY2L0"
      }
    },
    {
      "cell_type": "code",
      "source": [
        "# Correlation Heatmap visualization code\n",
        "\n",
        "# Correlation matrix\n",
        "corr = df.corr(numeric_only=True)\n",
        "\n",
        "# Basic heatmap\n",
        "plt.matshow(corr, cmap='coolwarm')\n",
        "plt.title('Correlation Heatmap', fontsize=14)\n",
        "plt.colorbar()\n",
        "plt.xticks(range(len(corr.columns)), corr.columns, rotation=90)\n",
        "plt.yticks(range(len(corr.columns)), corr.columns)\n",
        "plt.show()\n"
      ],
      "metadata": {
        "id": "xyC9zolEZNRQ"
      },
      "execution_count": null,
      "outputs": []
    },
    {
      "cell_type": "markdown",
      "source": [
        "##### 1. Why did you pick the specific chart?"
      ],
      "metadata": {
        "id": "UV0SzAkaZNRQ"
      }
    },
    {
      "cell_type": "markdown",
      "source": [
        "I picked this chart to easily see how different **numerical features are related to each other**. A correlation heatmap helps identify patterns, like which factors are strongly linked to **cancellations**, **revenue**, or **lead time**, so we can focus on the most impactful variables in our analysis or predictions.\n"
      ],
      "metadata": {
        "id": "DVPuT8LYZNRQ"
      }
    },
    {
      "cell_type": "markdown",
      "source": [
        "##### 2. What is/are the insight(s) found from the chart?"
      ],
      "metadata": {
        "id": "YPEH6qLeZNRQ"
      }
    },
    {
      "cell_type": "markdown",
      "source": [
        "The heatmap shows that **lead time** has a strong positive correlation with **cancellations** — meaning the longer people wait between booking and arrival, the more likely they are to cancel. Also, **total nights stayed** and **ADR** (average daily rate) are positively related to **revenue**, which makes sense since longer, higher-priced stays bring in more money.\n"
      ],
      "metadata": {
        "id": "bfSqtnDqZNRR"
      }
    },
    {
      "cell_type": "markdown",
      "source": [
        "#### Chart - 15 - Pair Plot"
      ],
      "metadata": {
        "id": "q29F0dvdveiT"
      }
    },
    {
      "cell_type": "code",
      "source": [
        "# Pair Plot visualization code\n",
        "import seaborn as sns\n",
        "\n",
        "# Basic pair plot with 3 variables\n",
        "sns.pairplot(df[['lead_time', 'adr', 'is_canceled']])\n",
        "plt.show()\n"
      ],
      "metadata": {
        "id": "o58-TEIhveiU"
      },
      "execution_count": null,
      "outputs": []
    },
    {
      "cell_type": "markdown",
      "source": [
        "##### 1. Why did you pick the specific chart?"
      ],
      "metadata": {
        "id": "EXh0U9oCveiU"
      }
    },
    {
      "cell_type": "markdown",
      "source": [
        "I picked the pair plot because it shows the **relationship between multiple numerical features** in one single chart. It helps us quickly spot **patterns, trends, or correlations**, like how lead time affects cancellations or how ADR relates to booking behavior — all at a glance, without writing multiple plots.\n"
      ],
      "metadata": {
        "id": "eMmPjTByveiU"
      }
    },
    {
      "cell_type": "markdown",
      "source": [
        "##### 2. What is/are the insight(s) found from the chart?"
      ],
      "metadata": {
        "id": "22aHeOlLveiV"
      }
    },
    {
      "cell_type": "markdown",
      "source": [
        "The pair plot shows that **higher lead time** is often linked to **more cancellations**, and bookings with **higher ADR** (room rates) tend to be **less likely to cancel**. Also, most bookings cluster around **lower ADR and lead time**, showing typical guest behavior.\n"
      ],
      "metadata": {
        "id": "uPQ8RGwHveiV"
      }
    },
    {
      "cell_type": "markdown",
      "source": [
        "## **5. Solution to Business Objective**"
      ],
      "metadata": {
        "id": "JcMwzZxoAimU"
      }
    },
    {
      "cell_type": "markdown",
      "source": [
        "#### What do you suggest the client to achieve Business Objective ?\n",
        "Explain Briefly."
      ],
      "metadata": {
        "id": "8G2x9gOozGDZ"
      }
    },
    {
      "cell_type": "markdown",
      "source": [
        "To help the client achieve their business objective of **maximizing revenue and reducing cancellations**, I suggest the following:\n",
        "\n",
        "1.Focus on High-Value Segments\n",
        "\n",
        "Promote **Corporate** and **Direct** bookings, as they have **higher ADR** and lower cancellation rates. Offer loyalty benefits or flexible check-in for these customers.\n",
        "\n",
        "2.Reduce Cancellations\n",
        "\n",
        "Encourage **non-refundable bookings** with small discounts.\n",
        "Apply **stricter policies** for customers with high lead times or no special requests (who are more likely to cancel).\n",
        "Use **deposit policies** wisely to filter unserious bookings.\n",
        "\n",
        "3.Optimize Seasonal Pricing\n",
        "\n",
        "Raise prices in **peak months** (July, August).\n",
        "Offer **discounts and bundled packages** in off-peak seasons (Jan, Feb) to fill rooms.\n",
        "\n",
        "\n",
        "4.Target Top Markets\n",
        "\n",
        "Focus ads and language/localized services in countries with the **most bookings** (like Portugal, UK). Expand outreach in similar markets to grow.\n",
        "\n"
      ],
      "metadata": {
        "id": "pASKb0qOza21"
      }
    },
    {
      "cell_type": "markdown",
      "source": [
        "# **Conclusion**"
      ],
      "metadata": {
        "id": "gCX9965dhzqZ"
      }
    },
    {
      "cell_type": "markdown",
      "source": [
        "Through detailed analysis of the hotel booking dataset using pandas, NumPy, and matplotlib, we uncovered key insights that can directly impact business decisions. We found that lead time, customer type, deposit policy, and special requests strongly influence booking cancellations. Corporate and direct bookings bring higher revenue, while group and OTA bookings tend to cancel more often. Seasonal trends show peak demand in summer months like July and August, and lower demand in January and February.\n",
        "\n",
        "By acting on these insights, the hotel can implement smarter pricing strategies, reduce cancellations, target high-value customers, and optimize operations across the year. This data-driven approach lays a strong foundation for improving profitability and guest satisfaction.\n",
        "\n"
      ],
      "metadata": {
        "id": "Fjb1IsQkh3yE"
      }
    },
    {
      "cell_type": "markdown",
      "source": [
        "### ***Hurrah! You have successfully completed your EDA Capstone Project !!!***"
      ],
      "metadata": {
        "id": "gIfDvo9L0UH2"
      }
    }
  ]
}