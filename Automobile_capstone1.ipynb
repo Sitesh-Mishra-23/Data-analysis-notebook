{
  "nbformat": 4,
  "nbformat_minor": 0,
  "metadata": {
    "colab": {
      "private_outputs": true,
      "provenance": [],
      "collapsed_sections": [
        "w6K7xa23Elo4",
        "GF8Ens_Soomf",
        "0wOQAZs5pc--",
        "K5QZ13OEpz2H",
        "lQ7QKXXCp7Bj",
        "448CDAPjqfQr",
        "KSlN3yHqYklG",
        "t6dVpIINYklI",
        "ijmpgYnKYklI",
        "-JiQyfWJYklI",
        "EM7whBJCYoAo",
        "fge-S5ZAYoAp",
        "85gYPyotYoAp",
        "RoGjAbkUYoAp",
        "4Of9eVA-YrdM",
        "iky9q4vBYrdO",
        "F6T5p64dYrdO",
        "y-Ehk30pYrdP",
        "bamQiAODYuh1",
        "QHF8YVU7Yuh3",
        "GwzvFGzlYuh3",
        "qYpmQ266Yuh3",
        "OH-pJp9IphqM",
        "bbFf2-_FphqN",
        "_ouA3fa0phqN",
        "Seke61FWphqN",
        "PIIx-8_IphqN",
        "t27r6nlMphqO",
        "r2jJGEOYphqO",
        "b0JNsNcRphqO",
        "BZR9WyysphqO",
        "jj7wYXLtphqO",
        "eZrbJ2SmphqO",
        "rFu4xreNphqO",
        "YJ55k-q6phqO",
        "gCFgpxoyphqP",
        "OVtJsKN_phqQ",
        "lssrdh5qphqQ",
        "U2RJ9gkRphqQ",
        "1M8mcRywphqQ",
        "tgIPom80phqQ",
        "JMzcOPDDphqR",
        "x-EpHcCOp1ci",
        "X_VqEhTip1ck",
        "8zGJKyg5p1ck",
        "PVzmfK_Ep1ck",
        "n3dbpmDWp1ck",
        "ylSl6qgtp1ck",
        "ZWILFDl5p1ck",
        "M7G43BXep1ck",
        "Ag9LCva-p1cl",
        "E6MkPsBcp1cl",
        "2cELzS2fp1cl",
        "3MPXvC8up1cl",
        "NC_X3p0fY2L0",
        "UV0SzAkaZNRQ",
        "YPEH6qLeZNRQ",
        "q29F0dvdveiT",
        "EXh0U9oCveiU",
        "22aHeOlLveiV",
        "JcMwzZxoAimU",
        "8G2x9gOozGDZ",
        "gCX9965dhzqZ",
        "gIfDvo9L0UH2"
      ]
    },
    "kernelspec": {
      "name": "python3",
      "display_name": "Python 3"
    },
    "language_info": {
      "name": "python"
    }
  },
  "cells": [
    {
      "cell_type": "markdown",
      "source": [
        "# **Project Name**    - Automobile Data Analysis\n",
        "\n"
      ],
      "metadata": {
        "id": "vncDsAP0Gaoa"
      }
    },
    {
      "cell_type": "markdown",
      "source": [
        "##### **Project Type**    - EDA\n",
        "##### **Contribution**    - Individual\n",
        "##### **Name** - Sitesh Mishra"
      ],
      "metadata": {
        "id": "beRrZCGUAJYm"
      }
    },
    {
      "cell_type": "markdown",
      "source": [
        "# **Project Summary -**"
      ],
      "metadata": {
        "id": "FJNUwmbgGyua"
      }
    },
    {
      "cell_type": "markdown",
      "source": [
        "This project focuses on the detailed analysis of an automobile dataset using Python’s core data manipulation and visualization libraries, including Pandas, NumPy, and Matplotlib. The dataset consists of various automobile specifications such as price, body style, engine type, horsepower, fuel efficiency, and other key metrics. The primary objective of this project is to explore relationships between different features and derive meaningful insights that can guide decision-making for both automobile manufacturers and consumers.\n",
        "\n",
        "The first step involved understanding the structure of the dataset, identifying the types of variables, and checking for inconsistencies. The dataset required a series of data cleaning processes, as it contained missing values and improperly formatted data entries. Special characters such as '?' were replaced or removed, and numerical columns that were incorrectly labeled as objects were converted to appropriate numeric formats. This ensured the data was consistent and ready for analysis.\n",
        "\n",
        "Following the cleaning phase, exploratory data analysis (EDA) was performed to uncover patterns and trends. Various types of charts such as bar graphs, histograms, scatter plots, and correlation matrices were used to visualize the data. For instance, it was found that variables like engine size, horsepower, and curb weight had a strong positive correlation with car price. This insight indicates that higher-spec vehicles tend to be more expensive, which aligns with general market trends. The analysis also revealed that body styles like hatchbacks and sedans are the most common, reflecting their affordability and popularity.\n",
        "\n",
        "One of the significant observations from the project was the variation in car prices based on manufacturers. Brands like BMW, Audi, and Mercedes-Benz dominate the higher price range, while companies like Toyota and Honda offer more budget-friendly options. Additionally, diesel vehicles, though fewer in number, often provide better fuel economy compared to their gasoline counterparts. These patterns can help businesses focus their marketing efforts and product development strategies more effectively.\n",
        "\n",
        "In conclusion, this project demonstrated how powerful Python tools can be used to perform structured, insightful analysis on real-world data. By cleaning and visualizing the automobile dataset, we were able to extract useful trends that not only explain market behavior but also support informed business and consumer decisions. The project serves as a practical example of how data analysis can turn raw data into valuable strategic intelligence.\n",
        "\n"
      ],
      "metadata": {
        "id": "F6v_1wHtG2nS"
      }
    },
    {
      "cell_type": "markdown",
      "source": [
        "# **GitHub Link -**"
      ],
      "metadata": {
        "id": "w6K7xa23Elo4"
      }
    },
    {
      "cell_type": "markdown",
      "source": [
        "Provide your GitHub Link here."
      ],
      "metadata": {
        "id": "h1o69JH3Eqqn"
      }
    },
    {
      "cell_type": "markdown",
      "source": [
        "# **Problem Statement**\n"
      ],
      "metadata": {
        "id": "yQaldy8SH6Dl"
      }
    },
    {
      "cell_type": "markdown",
      "source": [
        "The automobile industry generates complex data on vehicle specifications, pricing, and performance, but raw datasets often contain missing values and inconsistencies. This project aims to clean and analyze an automobile dataset to discover how features like engine size, horsepower, fuel type, and body style impact vehicle pricing and efficiency. The goal is to extract insights that help manufacturers, marketers, and consumers make informed decisions"
      ],
      "metadata": {
        "id": "DpeJGUA3kjGy"
      }
    },
    {
      "cell_type": "markdown",
      "source": [
        "#### **Define Your Business Objective?**"
      ],
      "metadata": {
        "id": "PH-0ReGfmX4f"
      }
    },
    {
      "cell_type": "markdown",
      "source": [
        "The goal of this project is to analyze automobile data to uncover key factors influencing vehicle pricing, performance, and fuel efficiency. By identifying trends and relationships between features like engine size, horsepower, fuel type, and brand, the objective is to help car manufacturers and dealers make smarter product, pricing, and marketing decisions — ultimately boosting customer satisfaction and business profitability."
      ],
      "metadata": {
        "id": "PhDvGCAqmjP1"
      }
    },
    {
      "cell_type": "markdown",
      "source": [
        "# **General Guidelines** : -  "
      ],
      "metadata": {
        "id": "mDgbUHAGgjLW"
      }
    },
    {
      "cell_type": "markdown",
      "source": [
        "1.   Well-structured, formatted, and commented code is required.\n",
        "2.   Exception Handling, Production Grade Code & Deployment Ready Code will be a plus. Those students will be awarded some additional credits.\n",
        "     \n",
        "     The additional credits will have advantages over other students during Star Student selection.\n",
        "       \n",
        "             [ Note: - Deployment Ready Code is defined as, the whole .ipynb notebook should be executable in one go\n",
        "                       without a single error logged. ]\n",
        "\n",
        "3.   Each and every logic should have proper comments.\n",
        "4. You may add as many number of charts you want. Make Sure for each and every chart the following format should be answered.\n",
        "        \n",
        "\n",
        "```\n",
        "# Chart visualization code\n",
        "```\n",
        "            \n",
        "\n",
        "*   Why did you pick the specific chart?\n",
        "*   What is/are the insight(s) found from the chart?\n",
        "* Will the gained insights help creating a positive business impact?\n",
        "Are there any insights that lead to negative growth? Justify with specific reason.\n",
        "\n",
        "\n",
        "5. You have to create at least 20 logical & meaningful charts having important insights.\n",
        "\n",
        "[ Hints : - Do the Vizualization in  a structured way while following \"UBM\" Rule.\n",
        "\n",
        "U - Univariate Analysis,\n",
        "\n",
        "B - Bivariate Analysis (Numerical - Categorical, Numerical - Numerical, Categorical - Categorical)\n",
        "\n",
        "M - Multivariate Analysis\n",
        " ]\n",
        "\n",
        "\n",
        "\n",
        "\n",
        "\n"
      ],
      "metadata": {
        "id": "ZrxVaUj-hHfC"
      }
    },
    {
      "cell_type": "markdown",
      "source": [
        "# ***Let's Begin !***"
      ],
      "metadata": {
        "id": "O_i_v8NEhb9l"
      }
    },
    {
      "cell_type": "markdown",
      "source": [
        "## ***1. Know Your Data***"
      ],
      "metadata": {
        "id": "HhfV-JJviCcP"
      }
    },
    {
      "cell_type": "markdown",
      "source": [
        "### Import Libraries"
      ],
      "metadata": {
        "id": "Y3lxredqlCYt"
      }
    },
    {
      "cell_type": "code",
      "source": [
        "# Import Libraries\n",
        "import pandas as pd\n",
        "import numpy as np\n",
        "import matplotlib.pyplot as plt\n",
        "import seaborn as sns"
      ],
      "metadata": {
        "id": "M8Vqi-pPk-HR"
      },
      "execution_count": null,
      "outputs": []
    },
    {
      "cell_type": "markdown",
      "source": [
        "### Dataset Loading"
      ],
      "metadata": {
        "id": "3RnN4peoiCZX"
      }
    },
    {
      "cell_type": "code",
      "source": [
        "# Load Dataset\n",
        "df=pd.read_csv('/content/drive/MyDrive/Colab Notebooks/Datasets/automobile_data.csv')"
      ],
      "metadata": {
        "id": "4CkvbW_SlZ_R"
      },
      "execution_count": null,
      "outputs": []
    },
    {
      "cell_type": "code",
      "source": [
        "from google.colab import drive\n",
        "drive.mount('/content/drive')"
      ],
      "metadata": {
        "id": "VT25Na66ig4j"
      },
      "execution_count": null,
      "outputs": []
    },
    {
      "cell_type": "markdown",
      "source": [
        "### Dataset First View"
      ],
      "metadata": {
        "id": "x71ZqKXriCWQ"
      }
    },
    {
      "cell_type": "code",
      "source": [
        "# Dataset First Look\n",
        "df.head()"
      ],
      "metadata": {
        "id": "LWNFOSvLl09H"
      },
      "execution_count": null,
      "outputs": []
    },
    {
      "cell_type": "markdown",
      "source": [
        "### Dataset Rows & Columns count"
      ],
      "metadata": {
        "id": "7hBIi_osiCS2"
      }
    },
    {
      "cell_type": "code",
      "source": [
        "# Dataset Rows & Columns count\n",
        "df.shape"
      ],
      "metadata": {
        "id": "Kllu7SJgmLij"
      },
      "execution_count": null,
      "outputs": []
    },
    {
      "cell_type": "markdown",
      "source": [
        "### Dataset Information"
      ],
      "metadata": {
        "id": "JlHwYmJAmNHm"
      }
    },
    {
      "cell_type": "code",
      "source": [
        "# Dataset Info\n",
        "df.info()"
      ],
      "metadata": {
        "id": "e9hRXRi6meOf"
      },
      "execution_count": null,
      "outputs": []
    },
    {
      "cell_type": "markdown",
      "source": [
        "#### Duplicate Values"
      ],
      "metadata": {
        "id": "35m5QtbWiB9F"
      }
    },
    {
      "cell_type": "code",
      "source": [
        "# Dataset Duplicate Value Count\n",
        "df.duplicated().sum()"
      ],
      "metadata": {
        "id": "1sLdpKYkmox0"
      },
      "execution_count": null,
      "outputs": []
    },
    {
      "cell_type": "markdown",
      "source": [
        "#### Missing Values/Null Values"
      ],
      "metadata": {
        "id": "PoPl-ycgm1ru"
      }
    },
    {
      "cell_type": "code",
      "source": [
        "# Missing Values/Null Values Count\n",
        "missing_values=df.isnull().sum()"
      ],
      "metadata": {
        "id": "GgHWkxvamxVg"
      },
      "execution_count": null,
      "outputs": []
    },
    {
      "cell_type": "code",
      "source": [
        "# Visualizing the missing value\n",
        "missing_values = df.isnull().sum()\n",
        "missing_values = missing_values[missing_values > 0]\n",
        "\n",
        "# Plot if there are missing values\n",
        "if not df.isnull().sum().sum() == 0:\n",
        "    missing_values.plot(kind='bar', color='tomato')\n",
        "else:\n",
        "    print(\"✅ No missing values to visualize!\")\n"
      ],
      "metadata": {
        "id": "3q5wnI3om9sJ"
      },
      "execution_count": null,
      "outputs": []
    },
    {
      "cell_type": "markdown",
      "source": [
        "### What did you know about your dataset?"
      ],
      "metadata": {
        "id": "H0kj-8xxnORC"
      }
    },
    {
      "cell_type": "markdown",
      "source": [
        "The dataset contains detailed information about various automobiles, including attributes like make, fuel type, body style, engine size, horsepower, mileage (city and highway), and price. It includes both numerical and categorical data, with some missing values and inconsistent entries that require cleaning. Key features such as engine-size, curb-weight, and horsepower show strong influence on price, while categorical variables like fuel-type and body-style help in understanding market preferences. Overall, the dataset provides a solid base for analyzing vehicle performance, pricing trends, and consumer behavior in the automobile industry.\n"
      ],
      "metadata": {
        "id": "gfoNAAC-nUe_"
      }
    },
    {
      "cell_type": "markdown",
      "source": [
        "## ***2. Understanding Your Variables***"
      ],
      "metadata": {
        "id": "nA9Y7ga8ng1Z"
      }
    },
    {
      "cell_type": "code",
      "source": [
        "# Dataset Columns\n",
        "df.columns"
      ],
      "metadata": {
        "id": "j7xfkqrt5Ag5"
      },
      "execution_count": null,
      "outputs": []
    },
    {
      "cell_type": "code",
      "source": [
        "# Dataset Describe\n",
        "df.describe()"
      ],
      "metadata": {
        "id": "DnOaZdaE5Q5t"
      },
      "execution_count": null,
      "outputs": []
    },
    {
      "cell_type": "markdown",
      "source": [
        "### Variables Description"
      ],
      "metadata": {
        "id": "PBTbrJXOngz2"
      }
    },
    {
      "cell_type": "markdown",
      "source": [
        "The dataset includes a mix of **numerical and categorical variables** that describe various aspects of automobiles. Key variables include make (manufacturer brand), fuel-type (gas or diesel), aspiration(standard or turbo), body-style (like sedan, hatchback), and drive-wheels. Performance-related features like engine-size, horsepower, curb-weight, and number-of-cylinders help assess power and efficiency. It also contains mileage data such as city-mpg and highway-mpg, and finally, price, which serves as the target variable for most analyses. Some columns may contain missing values or inconsistent formatting that need to be cleaned before analysis.\n",
        "\n"
      ],
      "metadata": {
        "id": "aJV4KIxSnxay"
      }
    },
    {
      "cell_type": "markdown",
      "source": [
        "### Check Unique Values for each variable."
      ],
      "metadata": {
        "id": "u3PMJOP6ngxN"
      }
    },
    {
      "cell_type": "code",
      "source": [
        "# Check Unique Values for each variable.\n",
        "df.nunique()"
      ],
      "metadata": {
        "id": "zms12Yq5n-jE"
      },
      "execution_count": null,
      "outputs": []
    },
    {
      "cell_type": "markdown",
      "source": [
        "## 3. ***Data Wrangling***"
      ],
      "metadata": {
        "id": "dauF4eBmngu3"
      }
    },
    {
      "cell_type": "markdown",
      "source": [
        "### Data Wrangling Code"
      ],
      "metadata": {
        "id": "bKJF3rekwFvQ"
      }
    },
    {
      "cell_type": "code",
      "source": [
        "# Write your code to make your dataset analysis ready.\n",
        "\n",
        "# Replace '?' with NaN\n",
        "df.replace('?', pd.NA, inplace=True)\n",
        "\n",
        "# Convert important columns to numeric\n",
        "for col in ['price', 'horsepower', 'peak-rpm', 'bore', 'stroke']:\n",
        "    df[col] = pd.to_numeric(df[col], errors='coerce')\n",
        "\n",
        "# Drop rows where price is missing (target variable)\n",
        "df.dropna(subset=['price'], inplace=True)\n",
        "\n",
        "# Fill missing numeric values with mean\n",
        "df.fillna(df.mean(numeric_only=True), inplace=True)\n",
        "\n",
        "# Fill missing categorical values with mode\n",
        "df.fillna(df.mode().iloc[0], inplace=True)\n",
        "\n",
        "# Reset index\n",
        "df.reset_index(drop=True, inplace=True)\n"
      ],
      "metadata": {
        "id": "wk-9a2fpoLcV"
      },
      "execution_count": null,
      "outputs": []
    },
    {
      "cell_type": "markdown",
      "source": [
        "### What all manipulations have you done and insights you found?"
      ],
      "metadata": {
        "id": "MSa1f5Uengrz"
      }
    },
    {
      "cell_type": "markdown",
      "source": [
        "(A)Manipulations Done:\n",
        "\n",
        "Replaced '?' with NaN\n",
        "To standardize missing values and make them easier to handle.\n",
        "\n",
        "Converted columns to numeric:\n",
        "Columns like price, horsepower, bore, etc., were converted to numeric using pd.to_numeric() for accurate calculations.\n",
        "\n",
        "Dropped rows with missing target (price)\n",
        "Since we can’t use rows without the target value, we removed them.\n",
        "\n",
        "Filled missing numeric values with mean\n",
        "To retain rows and reduce bias without skewing the data drastically.\n",
        "\n",
        "Filled missing categorical values with mode\n",
        "Replaced missing categories with the most frequent value in each column.\n",
        "\n",
        "Reset index\n",
        "Cleaned up the index after row deletions for smoother processing and readability.\n",
        "\n",
        "(B) Insights Found:\n",
        "\n",
        "Engine size, horsepower, and curb weight have a strong positive correlation with price, meaning more powerful cars are more expensive.\n",
        "\n",
        "Diesel cars are fewer in number but may offer better fuel economy.\n",
        "\n",
        "Luxury brands like BMW, Audi, and Mercedes consistently fall in the higher price range.\n",
        "\n",
        "Hatchbacks and sedans dominate the dataset, suggesting they are the most popular or affordable types.\n",
        "\n",
        "Manual data cleaning was crucial due to missing and inconsistent entries, especially in numeric fields stored as strings."
      ],
      "metadata": {
        "id": "LbyXE7I1olp8"
      }
    },
    {
      "cell_type": "markdown",
      "source": [
        "## ***4. Data Vizualization, Storytelling & Experimenting with charts : Understand the relationships between variables***"
      ],
      "metadata": {
        "id": "GF8Ens_Soomf"
      }
    },
    {
      "cell_type": "markdown",
      "source": [
        "#### Chart - 1"
      ],
      "metadata": {
        "id": "0wOQAZs5pc--"
      }
    },
    {
      "cell_type": "code",
      "source": [
        "# Chart - 1 visualization code\n",
        "# Top 10 car makes by average price\n",
        "avg_price_by_make = df.groupby('make')['price'].mean().sort_values(ascending=False).head(10)\n",
        "\n",
        "avg_price_by_make.plot(kind='bar', color='coral')\n",
        "plt.title('Top 10 Car Brands by Average Price')\n",
        "plt.xlabel('Car Make')\n",
        "plt.ylabel('Average Price')\n",
        "plt.xticks(rotation=45)\n",
        "plt.show()\n"
      ],
      "metadata": {
        "id": "7v_ESjsspbW7"
      },
      "execution_count": null,
      "outputs": []
    },
    {
      "cell_type": "markdown",
      "source": [
        "##### 1. Why did you pick the specific chart?"
      ],
      "metadata": {
        "id": "K5QZ13OEpz2H"
      }
    },
    {
      "cell_type": "markdown",
      "source": [
        "I picked this bar chart because I wanted to compare the average car price across different manufacturers. It helps show which brands sell premium vehicles and which ones are more affordable. This kind of comparison is useful for understanding how each company is positioned in the market. It's a simple but powerful way to spot trends and make business decisions based on brand value.\n",
        "\n"
      ],
      "metadata": {
        "id": "XESiWehPqBRc"
      }
    },
    {
      "cell_type": "markdown",
      "source": [
        "##### 2. What is/are the insight(s) found from the chart?"
      ],
      "metadata": {
        "id": "lQ7QKXXCp7Bj"
      }
    },
    {
      "cell_type": "markdown",
      "source": [
        "I chose this bar chart because it clearly shows the top 10 car brands with the highest average prices. It helps compare manufacturers and understand which ones are positioned as premium or luxury brands in the market. This kind of visualization is simple, yet it gives meaningful business insights about pricing trends across companies"
      ],
      "metadata": {
        "id": "C_j1G7yiqdRP"
      }
    },
    {
      "cell_type": "markdown",
      "source": [
        "##### 3. Will the gained insights help creating a positive business impact?\n",
        "Are there any insights that lead to negative growth? Justify with specific reason."
      ],
      "metadata": {
        "id": "448CDAPjqfQr"
      }
    },
    {
      "cell_type": "markdown",
      "source": [
        "Yes, the insights from the chart can definitely help create a positive business impact.\n",
        "By identifying brands with the highest average prices, companies can better understand their market position and adjust their strategies — for example, luxury brands can justify premium pricing by focusing on performance and branding, while budget brands can compete through affordability and fuel efficiency. This helps in targeted marketing, product planning, and customer segmentation.\n",
        "\n",
        "As for negative growth, one possible risk is overpricing by lower-tier brands trying to imitate luxury brands without offering similar quality or features. This mismatch can lead to poor sales and customer dissatisfaction. So, the key is to align price with value and customer expectations.\n",
        "\n"
      ],
      "metadata": {
        "id": "3cspy4FjqxJW"
      }
    },
    {
      "cell_type": "markdown",
      "source": [
        "#### Chart - 2"
      ],
      "metadata": {
        "id": "KSlN3yHqYklG"
      }
    },
    {
      "cell_type": "code",
      "source": [
        "# Chart - 2 visualization code\n",
        "avg_price_by_fuel = df.groupby('fuel-type')['price'].mean()\n",
        "\n",
        "avg_price_by_fuel.plot(kind='bar', color='seagreen')\n",
        "plt.title('Average Car Price by Fuel Type')\n",
        "plt.xlabel('Fuel Type')\n",
        "plt.ylabel('Average Price')\n",
        "plt.show()\n"
      ],
      "metadata": {
        "id": "R4YgtaqtYklH"
      },
      "execution_count": null,
      "outputs": []
    },
    {
      "cell_type": "markdown",
      "source": [
        "##### 1. Why did you pick the specific chart?"
      ],
      "metadata": {
        "id": "t6dVpIINYklI"
      }
    },
    {
      "cell_type": "markdown",
      "source": [
        "I picked this chart because it shows the average price based on fuel type, which is an important factor in a customer's buying decision. It helps compare whether diesel or petrol vehicles tend to cost more, and gives insight into how fuel type influences a car’s market value. This kind of chart is easy to interpret and useful for both business strategy and consumer awareness"
      ],
      "metadata": {
        "id": "5aaW0BYyYklI"
      }
    },
    {
      "cell_type": "markdown",
      "source": [
        "##### 2. What is/are the insight(s) found from the chart?"
      ],
      "metadata": {
        "id": "ijmpgYnKYklI"
      }
    },
    {
      "cell_type": "markdown",
      "source": [
        "The chart shows that diesel cars have a higher average price compared to petrol cars. This suggests that diesel vehicles are usually positioned in the premium segment, likely because they offer better mileage and are often found in larger or performance-oriented models"
      ],
      "metadata": {
        "id": "PSx9atu2YklI"
      }
    },
    {
      "cell_type": "markdown",
      "source": [
        "##### 3. Will the gained insights help creating a positive business impact?\n",
        "Are there any insights that lead to negative growth? Justify with specific reason."
      ],
      "metadata": {
        "id": "-JiQyfWJYklI"
      }
    },
    {
      "cell_type": "markdown",
      "source": [
        "Yes, the insights can definitely help create a positive business impact.\n",
        "By identifying that diesel cars generally have a higher average price, companies can use this data to better position their diesel variants in the premium market. It helps in strategic pricing, feature bundling, and targeting customers who prioritize fuel efficiency and performance.\n",
        "\n",
        "As for negative growth, if a brand overprices petrol variants or underestimates the demand for budget-friendly options, it could lose market share. Misreading fuel preferences or market trends might lead to reduced customer engagement and poor sales."
      ],
      "metadata": {
        "id": "BcBbebzrYklV"
      }
    },
    {
      "cell_type": "markdown",
      "source": [
        "#### Chart - 3"
      ],
      "metadata": {
        "id": "EM7whBJCYoAo"
      }
    },
    {
      "cell_type": "code",
      "source": [
        "# Chart - 3 visualization code\n",
        "plt.hist(df['price'], bins=20, color='skyblue', edgecolor='black')\n",
        "plt.title('Distribution of Car Prices')\n",
        "plt.xlabel('Price')\n",
        "plt.ylabel('Number of Cars')\n",
        "plt.show()\n"
      ],
      "metadata": {
        "id": "t6GMdE67YoAp"
      },
      "execution_count": null,
      "outputs": []
    },
    {
      "cell_type": "markdown",
      "source": [
        "##### 1. Why did you pick the specific chart?"
      ],
      "metadata": {
        "id": "fge-S5ZAYoAp"
      }
    },
    {
      "cell_type": "markdown",
      "source": [
        "I picked this histogram because it clearly shows how car prices are distributed across the dataset. It helps identify whether most cars are in the low, mid, or high price range. This is important to understand market segments, detect pricing outliers, and guide manufacturers on where most customer demand lies."
      ],
      "metadata": {
        "id": "5dBItgRVYoAp"
      }
    },
    {
      "cell_type": "markdown",
      "source": [
        "##### 2. What is/are the insight(s) found from the chart?"
      ],
      "metadata": {
        "id": "85gYPyotYoAp"
      }
    },
    {
      "cell_type": "markdown",
      "source": [
        "The histogram shows that most cars in the dataset fall within a lower price range, with fewer high-priced cars. This suggests that the market is dominated by affordable vehicles, while luxury cars make up a smaller portion. It highlights the popularity of budget and mid-range models among consumers."
      ],
      "metadata": {
        "id": "4jstXR6OYoAp"
      }
    },
    {
      "cell_type": "markdown",
      "source": [
        "##### 3. Will the gained insights help creating a positive business impact?\n",
        "Are there any insights that lead to negative growth? Justify with specific reason."
      ],
      "metadata": {
        "id": "RoGjAbkUYoAp"
      }
    },
    {
      "cell_type": "markdown",
      "source": [
        "Yes, the insights from the price distribution chart can support a positive business impact.\n",
        "Understanding that most cars fall into the lower to mid-price range helps manufacturers focus on high-demand, budget-friendly segments. It also allows them to competitively price new models and invest more in popular configurations, boosting sales and customer satisfaction.\n",
        "\n",
        "As for negative growth, if companies ignore this trend and overproduce high-priced or luxury models, they risk unsold inventory and a limited customer base. Misaligning pricing strategy with consumer demand can directly hurt revenue and brand trust."
      ],
      "metadata": {
        "id": "zfJ8IqMcYoAp"
      }
    },
    {
      "cell_type": "markdown",
      "source": [
        "#### Chart - 4"
      ],
      "metadata": {
        "id": "4Of9eVA-YrdM"
      }
    },
    {
      "cell_type": "code",
      "source": [
        "# Chart - 4 visualization code\n",
        "# Grouping by both drive-wheels and body-style, then averaging price\n",
        "grouped = df.groupby(['drive-wheels', 'body-style'])['price'].mean().unstack()\n",
        "\n",
        "# Plotting grouped bar chart\n",
        "grouped.plot(kind='bar', figsize=(10,6), colormap='viridis')\n",
        "plt.title('Average Price by Drive-Wheel Type and Body Style')\n",
        "plt.xlabel('Drive Wheel Type')\n",
        "plt.ylabel('Average Price')\n",
        "plt.legend(title='Body Style')\n",
        "plt.xticks(rotation=0)\n",
        "plt.tight_layout()\n",
        "plt.show()"
      ],
      "metadata": {
        "id": "irlUoxc8YrdO"
      },
      "execution_count": null,
      "outputs": []
    },
    {
      "cell_type": "markdown",
      "source": [
        "##### 1. Why did you pick the specific chart?"
      ],
      "metadata": {
        "id": "iky9q4vBYrdO"
      }
    },
    {
      "cell_type": "markdown",
      "source": [
        "I picked this grouped bar chart because it helps analyze two important factors — drive-wheel type and body style — and how they together impact the average car price. This multi-variable comparison gives a deeper understanding of which combinations are considered more valuable in the market. It’s more insightful than a simple single-variable chart, especially for making design or pricing decisions."
      ],
      "metadata": {
        "id": "aJRCwT6DYrdO"
      }
    },
    {
      "cell_type": "markdown",
      "source": [
        "##### 2. What is/are the insight(s) found from the chart?"
      ],
      "metadata": {
        "id": "F6T5p64dYrdO"
      }
    },
    {
      "cell_type": "markdown",
      "source": [
        "The chart shows that rear-wheel drive (RWD) sedans have the highest average price, while front-wheel drive (FWD) hatchbacks are among the lowest. This suggests that RWD is often used in premium models like sports or luxury cars, whereas FWD is more common in affordable, compact vehicles"
      ],
      "metadata": {
        "id": "Xx8WAJvtYrdO"
      }
    },
    {
      "cell_type": "markdown",
      "source": [
        "##### 3. Will the gained insights help creating a positive business impact?\n",
        "Are there any insights that lead to negative growth? Justify with specific reason."
      ],
      "metadata": {
        "id": "y-Ehk30pYrdP"
      }
    },
    {
      "cell_type": "markdown",
      "source": [
        "Yes, the insights can help create a positive business impact.\n",
        "Understanding that rear-wheel drive sedans tend to be priced higher allows manufacturers to focus their premium features and marketing on these combinations, attracting high-value customers. On the other hand, knowing that front-wheel drive hatchbacks are more budget-friendly helps companies position them for price-sensitive markets, increasing reach and sales volume.\n",
        "\n",
        "However, if a brand tries to overprice low-demand combinations — like a high-priced FWD hatchback without premium features — it could lead to poor sales and customer dissatisfaction, resulting in negative growth. Aligning product design with customer expectations is crucial to avoid this.\n",
        "\n"
      ],
      "metadata": {
        "id": "jLNxxz7MYrdP"
      }
    },
    {
      "cell_type": "markdown",
      "source": [
        "#### Chart - 5"
      ],
      "metadata": {
        "id": "bamQiAODYuh1"
      }
    },
    {
      "cell_type": "code",
      "source": [
        "# Chart - 5 visualization code\n",
        "avg_price_by_doors = df.groupby('num-of-doors')['price'].mean()\n",
        "\n",
        "avg_price_by_doors.plot(kind='bar', color='orchid')\n",
        "plt.title('Average Price by Number of Doors')\n",
        "plt.xlabel('Number of Doors')\n",
        "plt.ylabel('Average Price')\n",
        "plt.show()\n"
      ],
      "metadata": {
        "id": "TIJwrbroYuh3"
      },
      "execution_count": null,
      "outputs": []
    },
    {
      "cell_type": "markdown",
      "source": [
        "##### 1. Why did you pick the specific chart?"
      ],
      "metadata": {
        "id": "QHF8YVU7Yuh3"
      }
    },
    {
      "cell_type": "markdown",
      "source": [
        "I picked this chart because the number of doors is a simple design feature that can affect both the car's functionality and price. By comparing the average price based on door count, I wanted to see whether customers tend to pay more for 2-door sportier cars or 4-door practical models. It's a straightforward chart that gives useful design and pricing insights."
      ],
      "metadata": {
        "id": "dcxuIMRPYuh3"
      }
    },
    {
      "cell_type": "markdown",
      "source": [
        "##### 2. What is/are the insight(s) found from the chart?"
      ],
      "metadata": {
        "id": "GwzvFGzlYuh3"
      }
    },
    {
      "cell_type": "markdown",
      "source": [
        "The chart shows that, on average, 4-door cars are priced slightly higher than 2-door cars. This suggests that practicality and passenger capacity tend to be valued more by consumers, especially for family or daily-use vehicles."
      ],
      "metadata": {
        "id": "uyqkiB8YYuh3"
      }
    },
    {
      "cell_type": "markdown",
      "source": [
        "##### 3. Will the gained insights help creating a positive business impact?\n",
        "Are there any insights that lead to negative growth? Justify with specific reason."
      ],
      "metadata": {
        "id": "qYpmQ266Yuh3"
      }
    },
    {
      "cell_type": "markdown",
      "source": [
        "Yes, the insights can help create a positive business impact.\n",
        "By observing that 4-door cars generally have a higher average price, manufacturers can focus on producing more practical, family-friendly vehicles for mass-market appeal. This can guide design, pricing, and marketing strategies that match consumer preferences, boosting sales and customer satisfaction.\n",
        "\n",
        "However, there’s also a risk of negative growth if companies ignore niche segments. For example, underestimating the demand for 2-door cars — which appeal to a younger, sportier audience — could lead to lost opportunities. So, balancing both practicality and style is key to staying competitive."
      ],
      "metadata": {
        "id": "_WtzZ_hCYuh4"
      }
    },
    {
      "cell_type": "markdown",
      "source": [
        "#### Chart - 6"
      ],
      "metadata": {
        "id": "OH-pJp9IphqM"
      }
    },
    {
      "cell_type": "code",
      "source": [
        "# Chart - 6 visualization code\n",
        "avg_price_by_body = df.groupby('body-style')['price'].mean().sort_values(ascending=False)\n",
        "\n",
        "avg_price_by_body.plot(kind='bar', color='skyblue')\n",
        "plt.title('Average Price by Body Style')\n",
        "plt.xlabel('Body Style')\n",
        "plt.ylabel('Average Price')\n",
        "plt.xticks(rotation=45)\n",
        "plt.show()\n"
      ],
      "metadata": {
        "id": "kuRf4wtuphqN"
      },
      "execution_count": null,
      "outputs": []
    },
    {
      "cell_type": "markdown",
      "source": [
        "##### 1. Why did you pick the specific chart?"
      ],
      "metadata": {
        "id": "bbFf2-_FphqN"
      }
    },
    {
      "cell_type": "markdown",
      "source": [
        "I picked this chart because body style is a key factor that influences car pricing. By visualizing the average price for each body type, we can clearly see which designs are positioned as premium and which ones are more budget-friendly. It helps in understanding customer preferences and guides manufacturers in product planning and pricing strategy."
      ],
      "metadata": {
        "id": "loh7H2nzphqN"
      }
    },
    {
      "cell_type": "markdown",
      "source": [
        "##### 2. What is/are the insight(s) found from the chart?"
      ],
      "metadata": {
        "id": "_ouA3fa0phqN"
      }
    },
    {
      "cell_type": "markdown",
      "source": [
        "The chart shows that convertible and hardtop cars have the highest average prices, indicating they target a luxury or sporty market segment. In contrast, hatchbacks and sedans are priced lower, making them more suitable for budget-conscious or family-oriented buyers."
      ],
      "metadata": {
        "id": "VECbqPI7phqN"
      }
    },
    {
      "cell_type": "markdown",
      "source": [
        "##### 3. Will the gained insights help creating a positive business impact?\n",
        "Are there any insights that lead to negative growth? Justify with specific reason."
      ],
      "metadata": {
        "id": "Seke61FWphqN"
      }
    },
    {
      "cell_type": "markdown",
      "source": [
        "Yes, the insights can create a positive business impact.\n",
        "By identifying that body styles like convertibles and hardtops are priced higher, manufacturers can strategically position these as premium models and target high-end customers through specialized marketing. Meanwhile, lower-priced segments like hatchbacks and sedans can be optimized for affordability and mass-market appeal, helping boost overall sales.\n",
        "\n",
        "However, if a company misjudges demand and overproduces high-priced body styles in markets that prefer affordability, it could lead to unsold inventory and negative growth. So, aligning production with customer demand and market trends is essential to avoid financial setbacks."
      ],
      "metadata": {
        "id": "DW4_bGpfphqN"
      }
    },
    {
      "cell_type": "markdown",
      "source": [
        "#### Chart - 7"
      ],
      "metadata": {
        "id": "PIIx-8_IphqN"
      }
    },
    {
      "cell_type": "code",
      "source": [
        "avg_price_by_cylinders = df.groupby('num-of-cylinders')['price'].mean().sort_values(ascending=False)\n",
        "\n",
        "avg_price_by_cylinders.plot(kind='bar', color='steelblue')\n",
        "plt.title('Average Price by Number of Cylinders')\n",
        "plt.xlabel('Number of Cylinders')\n",
        "plt.ylabel('Average Price')\n",
        "plt.xticks(rotation=45)\n",
        "plt.show()\n",
        "\n"
      ],
      "metadata": {
        "id": "lqAIGUfyphqO"
      },
      "execution_count": null,
      "outputs": []
    },
    {
      "cell_type": "markdown",
      "source": [
        "##### 1. Why did you pick the specific chart?"
      ],
      "metadata": {
        "id": "t27r6nlMphqO"
      }
    },
    {
      "cell_type": "markdown",
      "source": [
        "I picked this chart because the number of cylinders in a car is directly linked to engine performance, fuel consumption, and pricing. By visualizing average price by cylinder count, I wanted to understand how engine power affects cost and market positioning. It's a simple yet powerful way to analyze the relationship between performance and price"
      ],
      "metadata": {
        "id": "iv6ro40sphqO"
      }
    },
    {
      "cell_type": "markdown",
      "source": [
        "##### 2. What is/are the insight(s) found from the chart?"
      ],
      "metadata": {
        "id": "r2jJGEOYphqO"
      }
    },
    {
      "cell_type": "markdown",
      "source": [
        "The chart shows that cars with higher cylinder counts — like 6, 8, or 12 cylinders — tend to have significantly higher average prices compared to cars with 3 or 4 cylinders. This indicates that more powerful engines are associated with premium or luxury vehicles, while lower-cylinder engines are common in budget-friendly and fuel-efficient models."
      ],
      "metadata": {
        "id": "Po6ZPi4hphqO"
      }
    },
    {
      "cell_type": "markdown",
      "source": [
        "##### 3. Will the gained insights help creating a positive business impact?\n",
        "Are there any insights that lead to negative growth? Justify with specific reason."
      ],
      "metadata": {
        "id": "b0JNsNcRphqO"
      }
    },
    {
      "cell_type": "markdown",
      "source": [
        "Yes, the insights gained from the chart can create a positive business impact.\n",
        "By identifying that higher-cylinder vehicles are priced significantly higher, manufacturers can position such models as premium or performance-oriented. This helps in crafting targeted marketing campaigns, pricing strategies, and customer segmentation. Companies can also decide which engine variants to push more in certain markets — for example, promoting 4-cylinder models in fuel-conscious regions and 6+ cylinder models in performance-focused segments.\n",
        "\n",
        "However, there’s also a risk of negative growth if this insight is misapplied. Overproducing high-cylinder, expensive models in price-sensitive markets could lead to poor sales and inventory pile-up. Also, as the market shifts toward electric and fuel-efficient options, focusing too much on high-cylinder engines might backfire unless aligned with customer demand."
      ],
      "metadata": {
        "id": "xvSq8iUTphqO"
      }
    },
    {
      "cell_type": "markdown",
      "source": [
        "#### Chart - 8"
      ],
      "metadata": {
        "id": "BZR9WyysphqO"
      }
    },
    {
      "cell_type": "code",
      "source": [
        "# Chart - 8 visualization code\n",
        "drive_counts = df['drive-wheels'].value_counts()\n",
        "\n",
        "drive_counts.plot(kind='pie', autopct='%1.1f%%', startangle=90, colors=['#ff9999','#66b3ff','#99ff99'])\n",
        "plt.title('Drive-Wheel Type Distribution')\n",
        "plt.ylabel('')  # Hides the y-axis label\n",
        "plt.show()\n"
      ],
      "metadata": {
        "id": "TdPTWpAVphqO"
      },
      "execution_count": null,
      "outputs": []
    },
    {
      "cell_type": "markdown",
      "source": [
        "##### 1. Why did you pick the specific chart?"
      ],
      "metadata": {
        "id": "jj7wYXLtphqO"
      }
    },
    {
      "cell_type": "markdown",
      "source": [
        "I chose this specific insight — the distribution of drive-wheel types — because drivetrain configuration is a fundamental aspect of a car's performance, pricing, and market targeting. Understanding which type is most common helps identify consumer demand trends. For example, if FWD dominates the dataset, it tells us that affordability, fuel efficiency, and ease of handling are likely key market drivers. This insight is essential for manufacturers and marketers to align their product offerings with real-world consumer preferences.\""
      ],
      "metadata": {
        "id": "Ob8u6rCTphqO"
      }
    },
    {
      "cell_type": "markdown",
      "source": [
        "##### 2. What is/are the insight(s) found from the chart?"
      ],
      "metadata": {
        "id": "eZrbJ2SmphqO"
      }
    },
    {
      "cell_type": "markdown",
      "source": [
        "The chart shows that front-wheel drive (FWD) vehicles dominate the dataset, followed by rear-wheel (RWD) and four-wheel drive (4WD) cars. This suggests that most cars in the market prioritize affordability, fuel efficiency, and ease of handling — traits associated with FWD systems. Meanwhile, RWD and 4WD are less common, likely reserved for performance or off-road-oriented vehicles"
      ],
      "metadata": {
        "id": "mZtgC_hjphqO"
      }
    },
    {
      "cell_type": "markdown",
      "source": [
        "##### 3. Will the gained insights help creating a positive business impact?\n",
        "Are there any insights that lead to negative growth? Justify with specific reason."
      ],
      "metadata": {
        "id": "rFu4xreNphqO"
      }
    },
    {
      "cell_type": "markdown",
      "source": [
        "Understanding that front-wheel drive (FWD) vehicles dominate the market helps businesses make informed decisions on product design, inventory planning, and marketing. Since FWD cars are typically more affordable and fuel-efficient, companies can focus their production and advertising toward these features to match consumer demand — increasing sales, reducing overstock, and improving customer satisfaction.\n",
        "If a company overemphasizes FWD models and ignores demand for RWD or 4WD in certain markets — like luxury, performance, or off-road segments — it could lose customers in those niches. Misreading the data as “one-size-fits-all” can lead to missed opportunities and reduced brand appeal in specific categories."
      ],
      "metadata": {
        "id": "ey_0qi68phqO"
      }
    },
    {
      "cell_type": "markdown",
      "source": [
        "#### Chart - 9"
      ],
      "metadata": {
        "id": "YJ55k-q6phqO"
      }
    },
    {
      "cell_type": "code",
      "source": [
        "# Chart - 9 visualization code"
      ],
      "metadata": {
        "id": "B2aS4O1ophqO"
      },
      "execution_count": null,
      "outputs": []
    },
    {
      "cell_type": "markdown",
      "source": [
        "##### 1. Why did you pick the specific chart?"
      ],
      "metadata": {
        "id": "gCFgpxoyphqP"
      }
    },
    {
      "cell_type": "markdown",
      "source": [
        "Answer Here."
      ],
      "metadata": {
        "id": "TVxDimi2phqP"
      }
    },
    {
      "cell_type": "markdown",
      "source": [
        "##### 2. What is/are the insight(s) found from the chart?"
      ],
      "metadata": {
        "id": "OVtJsKN_phqQ"
      }
    },
    {
      "cell_type": "markdown",
      "source": [
        "Answer Here"
      ],
      "metadata": {
        "id": "ngGi97qjphqQ"
      }
    },
    {
      "cell_type": "markdown",
      "source": [
        "##### 3. Will the gained insights help creating a positive business impact?\n",
        "Are there any insights that lead to negative growth? Justify with specific reason."
      ],
      "metadata": {
        "id": "lssrdh5qphqQ"
      }
    },
    {
      "cell_type": "markdown",
      "source": [
        "Answer Here"
      ],
      "metadata": {
        "id": "tBpY5ekJphqQ"
      }
    },
    {
      "cell_type": "markdown",
      "source": [
        "#### Chart - 10"
      ],
      "metadata": {
        "id": "U2RJ9gkRphqQ"
      }
    },
    {
      "cell_type": "code",
      "source": [
        "# Chart - 10 visualization code"
      ],
      "metadata": {
        "id": "GM7a4YP4phqQ"
      },
      "execution_count": null,
      "outputs": []
    },
    {
      "cell_type": "markdown",
      "source": [
        "##### 1. Why did you pick the specific chart?"
      ],
      "metadata": {
        "id": "1M8mcRywphqQ"
      }
    },
    {
      "cell_type": "markdown",
      "source": [
        "Answer Here."
      ],
      "metadata": {
        "id": "8agQvks0phqQ"
      }
    },
    {
      "cell_type": "markdown",
      "source": [
        "##### 2. What is/are the insight(s) found from the chart?"
      ],
      "metadata": {
        "id": "tgIPom80phqQ"
      }
    },
    {
      "cell_type": "markdown",
      "source": [
        "Answer Here"
      ],
      "metadata": {
        "id": "Qp13pnNzphqQ"
      }
    },
    {
      "cell_type": "markdown",
      "source": [
        "##### 3. Will the gained insights help creating a positive business impact?\n",
        "Are there any insights that lead to negative growth? Justify with specific reason."
      ],
      "metadata": {
        "id": "JMzcOPDDphqR"
      }
    },
    {
      "cell_type": "markdown",
      "source": [
        "Answer Here"
      ],
      "metadata": {
        "id": "R4Ka1PC2phqR"
      }
    },
    {
      "cell_type": "markdown",
      "source": [
        "#### Chart - 11"
      ],
      "metadata": {
        "id": "x-EpHcCOp1ci"
      }
    },
    {
      "cell_type": "code",
      "source": [
        "# Chart - 11 visualization code"
      ],
      "metadata": {
        "id": "mAQTIvtqp1cj"
      },
      "execution_count": null,
      "outputs": []
    },
    {
      "cell_type": "markdown",
      "source": [
        "##### 1. Why did you pick the specific chart?"
      ],
      "metadata": {
        "id": "X_VqEhTip1ck"
      }
    },
    {
      "cell_type": "markdown",
      "source": [
        "Answer Here."
      ],
      "metadata": {
        "id": "-vsMzt_np1ck"
      }
    },
    {
      "cell_type": "markdown",
      "source": [
        "##### 2. What is/are the insight(s) found from the chart?"
      ],
      "metadata": {
        "id": "8zGJKyg5p1ck"
      }
    },
    {
      "cell_type": "markdown",
      "source": [
        "Answer Here"
      ],
      "metadata": {
        "id": "ZYdMsrqVp1ck"
      }
    },
    {
      "cell_type": "markdown",
      "source": [
        "##### 3. Will the gained insights help creating a positive business impact?\n",
        "Are there any insights that lead to negative growth? Justify with specific reason."
      ],
      "metadata": {
        "id": "PVzmfK_Ep1ck"
      }
    },
    {
      "cell_type": "markdown",
      "source": [
        "Answer Here"
      ],
      "metadata": {
        "id": "druuKYZpp1ck"
      }
    },
    {
      "cell_type": "markdown",
      "source": [
        "#### Chart - 12"
      ],
      "metadata": {
        "id": "n3dbpmDWp1ck"
      }
    },
    {
      "cell_type": "code",
      "source": [
        "# Chart - 12 visualization code"
      ],
      "metadata": {
        "id": "bwevp1tKp1ck"
      },
      "execution_count": null,
      "outputs": []
    },
    {
      "cell_type": "markdown",
      "source": [
        "##### 1. Why did you pick the specific chart?"
      ],
      "metadata": {
        "id": "ylSl6qgtp1ck"
      }
    },
    {
      "cell_type": "markdown",
      "source": [
        "Answer Here."
      ],
      "metadata": {
        "id": "m2xqNkiQp1ck"
      }
    },
    {
      "cell_type": "markdown",
      "source": [
        "##### 2. What is/are the insight(s) found from the chart?"
      ],
      "metadata": {
        "id": "ZWILFDl5p1ck"
      }
    },
    {
      "cell_type": "markdown",
      "source": [
        "Answer Here"
      ],
      "metadata": {
        "id": "x-lUsV2mp1ck"
      }
    },
    {
      "cell_type": "markdown",
      "source": [
        "##### 3. Will the gained insights help creating a positive business impact?\n",
        "Are there any insights that lead to negative growth? Justify with specific reason."
      ],
      "metadata": {
        "id": "M7G43BXep1ck"
      }
    },
    {
      "cell_type": "markdown",
      "source": [
        "Answer Here"
      ],
      "metadata": {
        "id": "5wwDJXsLp1cl"
      }
    },
    {
      "cell_type": "markdown",
      "source": [
        "#### Chart - 13"
      ],
      "metadata": {
        "id": "Ag9LCva-p1cl"
      }
    },
    {
      "cell_type": "code",
      "source": [
        "# Chart - 13 visualization code"
      ],
      "metadata": {
        "id": "EUfxeq9-p1cl"
      },
      "execution_count": null,
      "outputs": []
    },
    {
      "cell_type": "markdown",
      "source": [
        "##### 1. Why did you pick the specific chart?"
      ],
      "metadata": {
        "id": "E6MkPsBcp1cl"
      }
    },
    {
      "cell_type": "markdown",
      "source": [
        "Answer Here."
      ],
      "metadata": {
        "id": "V22bRsFWp1cl"
      }
    },
    {
      "cell_type": "markdown",
      "source": [
        "##### 2. What is/are the insight(s) found from the chart?"
      ],
      "metadata": {
        "id": "2cELzS2fp1cl"
      }
    },
    {
      "cell_type": "markdown",
      "source": [
        "Answer Here"
      ],
      "metadata": {
        "id": "ozQPc2_Ip1cl"
      }
    },
    {
      "cell_type": "markdown",
      "source": [
        "##### 3. Will the gained insights help creating a positive business impact?\n",
        "Are there any insights that lead to negative growth? Justify with specific reason."
      ],
      "metadata": {
        "id": "3MPXvC8up1cl"
      }
    },
    {
      "cell_type": "markdown",
      "source": [
        "Answer Here"
      ],
      "metadata": {
        "id": "GL8l1tdLp1cl"
      }
    },
    {
      "cell_type": "markdown",
      "source": [
        "#### Chart - 14 - Correlation Heatmap"
      ],
      "metadata": {
        "id": "NC_X3p0fY2L0"
      }
    },
    {
      "cell_type": "code",
      "source": [
        "# Correlation Heatmap visualization code\n",
        "\n",
        "# Select only numerical columns\n",
        "numeric_df = df.select_dtypes(include=['float64', 'int64'])\n",
        "\n",
        "# Compute correlation matrix\n",
        "correlation_matrix = numeric_df.corr()\n",
        "\n",
        "# Plot the heatmap\n",
        "plt.figure(figsize=(10, 8))\n",
        "sns.heatmap(correlation_matrix, annot=True, cmap='coolwarm', fmt=\".2f\")\n",
        "plt.title('Correlation Heatmap of Numerical Features')\n",
        "plt.show()\n"
      ],
      "metadata": {
        "id": "xyC9zolEZNRQ"
      },
      "execution_count": null,
      "outputs": []
    },
    {
      "cell_type": "markdown",
      "source": [
        "##### 1. Why did you pick the specific chart?"
      ],
      "metadata": {
        "id": "UV0SzAkaZNRQ"
      }
    },
    {
      "cell_type": "markdown",
      "source": [
        "I picked the correlation heatmap because it visually shows how strongly numerical variables are related to each other. It helps quickly identify which features have the highest impact on the target variable, like 'price'. For example, features like 'engine-size', 'curb-weight', and 'horsepower' might have a strong positive correlation with price, while 'city-mpg' could show a negative one. This chart helps in feature selection, understanding data relationships, and guiding business or modeling decisions"
      ],
      "metadata": {
        "id": "DVPuT8LYZNRQ"
      }
    },
    {
      "cell_type": "markdown",
      "source": [
        "##### 2. What is/are the insight(s) found from the chart?"
      ],
      "metadata": {
        "id": "YPEH6qLeZNRQ"
      }
    },
    {
      "cell_type": "markdown",
      "source": [
        "The heatmap shows that features like engine-size, curb-weight, and horsepower have a strong positive correlation with car price, meaning as these values increase, the price tends to increase too. On the other hand, features like city-mpg and highway-mpg have a negative correlation with price, indicating that more fuel-efficient cars are generally less expensive. This helps us understand which technical specs most influence car pricing"
      ],
      "metadata": {
        "id": "bfSqtnDqZNRR"
      }
    },
    {
      "cell_type": "markdown",
      "source": [
        "#### Chart - 15 - Pair Plot"
      ],
      "metadata": {
        "id": "q29F0dvdveiT"
      }
    },
    {
      "cell_type": "code",
      "source": [
        "# Pair Plot visualization code\n",
        "import seaborn as sns\n",
        "import matplotlib.pyplot as plt\n",
        "\n",
        "sns.pairplot(df[['price', 'engine-size', 'horsepower', 'city-mpg']].dropna())\n",
        "plt.show()\n"
      ],
      "metadata": {
        "id": "o58-TEIhveiU"
      },
      "execution_count": null,
      "outputs": []
    },
    {
      "cell_type": "markdown",
      "source": [
        "##### 1. Why did you pick the specific chart?"
      ],
      "metadata": {
        "id": "EXh0U9oCveiU"
      }
    },
    {
      "cell_type": "markdown",
      "source": [
        "I picked the pair plot because it allows me to visualize relationships between multiple numerical variables at once. Instead of plotting each pair separately, this chart gives a grid view where I can spot patterns, correlations, or outliers quickly. It’s especially useful in the early stages of data exploration to understand how features like price, engine size, horsepower, and mileage interact with each other."
      ],
      "metadata": {
        "id": "eMmPjTByveiU"
      }
    },
    {
      "cell_type": "markdown",
      "source": [
        "##### 2. What is/are the insight(s) found from the chart?"
      ],
      "metadata": {
        "id": "22aHeOlLveiV"
      }
    },
    {
      "cell_type": "markdown",
      "source": [
        "The pair plot shows a strong positive relationship between engine size, horsepower, and price — meaning cars with larger engines and higher horsepower tend to be more expensive. On the other hand, city mileage (mpg) appears to be negatively related to price, indicating that more fuel-efficient cars are usually cheaper. These trends help us understand how technical specs influence pricing"
      ],
      "metadata": {
        "id": "uPQ8RGwHveiV"
      }
    },
    {
      "cell_type": "markdown",
      "source": [
        "## **5. Solution to Business Objective**"
      ],
      "metadata": {
        "id": "JcMwzZxoAimU"
      }
    },
    {
      "cell_type": "markdown",
      "source": [
        "#### What do you suggest the client to achieve Business Objective ?\n",
        "Explain Briefly."
      ],
      "metadata": {
        "id": "8G2x9gOozGDZ"
      }
    },
    {
      "cell_type": "markdown",
      "source": [
        "Focus on FWD Cars:\n",
        "Front-wheel drive cars are the most common. The company should focus more on producing and selling these as they’re in high demand.\n",
        "\n",
        "Promote Fuel-Efficient Models:\n",
        "Cars with better mileage (higher mpg) are cheaper and appeal to budget-conscious buyers. Highlight this in marketing.\n",
        "\n",
        "Target Premium Buyers with High-Performance Cars:\n",
        "Cars with more cylinders, higher horsepower, and larger engines are priced higher. These should be sold as premium or performance models.\n",
        "\n",
        "Use Tiered Pricing:\n",
        "Offer base models at affordable prices and sell additional features as optional upgrades to increase profits.\n",
        "\n",
        "Clean Data Regularly:\n",
        "There were missing and incorrect values in the dataset. Keeping clean and accurate data helps in better analysis and business decisions.\n",
        "\n",
        "Dynamic Pricing Strategy:\n",
        "Since price is influenced by specs like horsepower and engine size, the company can create a flexible pricing system based on features.\n",
        "\n",
        "Don’t Ignore Niche Segments:\n",
        "Rear-wheel and four-wheel drive cars may be fewer, but they can be targeted to luxury or off-road customers."
      ],
      "metadata": {
        "id": "pASKb0qOza21"
      }
    },
    {
      "cell_type": "markdown",
      "source": [
        "# **Conclusion**"
      ],
      "metadata": {
        "id": "gCX9965dhzqZ"
      }
    },
    {
      "cell_type": "markdown",
      "source": [
        "In this project, I analyzed an automobile dataset using Python libraries like Pandas, NumPy, Matplotlib, and Seaborn. After cleaning and preparing the data, I explored key relationships between features like engine size, horsepower, mileage, and price.\n",
        "\n",
        "The analysis showed that front-wheel drive cars and 4-cylinder engines are the most common, while engine size, horsepower, and curb weight have a strong impact on price. Fuel-efficient cars tend to be cheaper, making them popular among budget-conscious buyers.\n",
        "\n",
        "Through visualizations like bar plots, scatter plots, and heatmaps, I identified patterns that can help businesses make better decisions about product design, pricing, and marketing. This project highlights how data analysis can turn raw information into meaningful business insights."
      ],
      "metadata": {
        "id": "Fjb1IsQkh3yE"
      }
    },
    {
      "cell_type": "markdown",
      "source": [
        "### ***Hurrah! You have successfully completed your EDA Capstone Project !!!***"
      ],
      "metadata": {
        "id": "gIfDvo9L0UH2"
      }
    }
  ]
}